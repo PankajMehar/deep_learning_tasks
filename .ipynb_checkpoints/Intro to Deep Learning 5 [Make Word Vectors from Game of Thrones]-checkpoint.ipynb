{
 "cells": [
  {
   "cell_type": "markdown",
   "metadata": {
    "collapsed": true
   },
   "source": [
    "# Goal : To create word vectors from Game of Thrones dataset and analyze them to see semantic similarity"
   ]
  },
  {
   "cell_type": "code",
   "execution_count": 1,
   "metadata": {
    "collapsed": true
   },
   "outputs": [],
   "source": [
    "#Step 0 : load dependencies\n",
    "from __future__ import print_function,division,absolute_import\n",
    "#reason we import future because it's the missing link between python 2 and 3\n",
    "#allows us to import functions of both (Acts as bridge between both)\n",
    "import codecs #for word encoding\n",
    "import glob ##finds all pathnames matching a pattern, like regex\n",
    "import multiprocessing #concurrency & multithreading & for faster processing\n",
    "import os #dealing with operating system like reading a file\n",
    "import pprint #pretty printing, human readable\n",
    "import re #granular regular expression\n",
    "import nltk #natural laguage tool kit\n",
    "import gensim.models.word2vec as w2v  #word to vectors\n",
    "import sklearn.manifold #dimensionality reduction\n",
    "import numpy as np\n",
    "import pandas as pd\n",
    "import matplotlib.pyplot as plt #plotting\n",
    "import seaborn as sns #visualisation"
   ]
  },
  {
   "cell_type": "code",
   "execution_count": 2,
   "metadata": {
    "collapsed": false
   },
   "outputs": [
    {
     "name": "stdout",
     "output_type": "stream",
     "text": [
      "[nltk_data] Downloading package punkt to /home/sayon/nltk_data...\n",
      "[nltk_data]   Package punkt is already up-to-date!\n",
      "[nltk_data] Downloading package stopwords to /home/sayon/nltk_data...\n",
      "[nltk_data]   Package stopwords is already up-to-date!\n"
     ]
    },
    {
     "data": {
      "text/plain": [
       "True"
      ]
     },
     "execution_count": 2,
     "metadata": {},
     "output_type": "execute_result"
    }
   ],
   "source": [
    "#Step 1 : process data\n",
    "#clean data\n",
    "nltk.download('punkt') #pretrained tokenizer\n",
    "nltk.download('stopwords') #contains common words like a,an, the, of etc."
   ]
  },
  {
   "cell_type": "code",
   "execution_count": 68,
   "metadata": {
    "collapsed": true
   },
   "outputs": [],
   "source": [
    "#get the book file names, matching txt files\n",
    "book_filenames = sorted(glob.glob(\"got_books/data/*.txt\"))"
   ]
  },
  {
   "cell_type": "code",
   "execution_count": 69,
   "metadata": {
    "collapsed": false
   },
   "outputs": [
    {
     "data": {
      "text/plain": [
       "['got_books/data/got1.txt',\n",
       " 'got_books/data/got2.txt',\n",
       " 'got_books/data/got3.txt',\n",
       " 'got_books/data/got4.txt',\n",
       " 'got_books/data/got5.txt']"
      ]
     },
     "execution_count": 69,
     "metadata": {},
     "output_type": "execute_result"
    }
   ],
   "source": [
    "book_filenames #= book_filenames[:2]"
   ]
  },
  {
   "cell_type": "code",
   "execution_count": 70,
   "metadata": {
    "collapsed": false
   },
   "outputs": [
    {
     "name": "stdout",
     "output_type": "stream",
     "text": [
      "Reading got_books/data/got1.txt....\n",
      "Corpus is now 1770659 characters long\n",
      "Reading got_books/data/got2.txt....\n",
      "Corpus is now 4071041 characters long\n",
      "Reading got_books/data/got3.txt....\n",
      "Corpus is now 6391405 characters long\n",
      "Reading got_books/data/got4.txt....\n",
      "Corpus is now 8107945 characters long\n",
      "Reading got_books/data/got5.txt....\n",
      "Corpus is now 9719485 characters long\n"
     ]
    }
   ],
   "source": [
    "#create raw corpus in utf-8 format, for that reason codecs is required\n",
    "corpus_raw = u\"\"\n",
    "for book in book_filenames:\n",
    "    print(\"Reading {0}....\".format(book))\n",
    "    with codecs.open(book,'r','utf-8') as book:\n",
    "        corpus_raw+=book.read()\n",
    "    print(\"Corpus is now {0} characters long\".format(len(corpus_raw)))"
   ]
  },
  {
   "cell_type": "markdown",
   "metadata": {},
   "source": [
    "# split corpus into sentences"
   ]
  },
  {
   "cell_type": "code",
   "execution_count": 71,
   "metadata": {
    "collapsed": true
   },
   "outputs": [],
   "source": [
    "tokenizer = nltk.data.load('tokenizers/punkt/english.pickle')"
   ]
  },
  {
   "cell_type": "code",
   "execution_count": 72,
   "metadata": {
    "collapsed": false
   },
   "outputs": [],
   "source": [
    "raw_sentences = tokenizer.tokenize(corpus_raw)"
   ]
  },
  {
   "cell_type": "code",
   "execution_count": 73,
   "metadata": {
    "collapsed": true
   },
   "outputs": [],
   "source": [
    "#convert into list of words\n",
    "#remove unnecessary characters, split into words,no hyphens\n",
    "#list of words\n",
    "def sentence_to_wordlist(raw):\n",
    "    clean = re.sub(\"[^a-zA-Z]\",\" \",raw)\n",
    "    words = clean.split()\n",
    "    return words"
   ]
  },
  {
   "cell_type": "code",
   "execution_count": 74,
   "metadata": {
    "collapsed": true
   },
   "outputs": [],
   "source": [
    "#sentence where each word is tokenized\n",
    "sentences = []\n",
    "for raw_sentence in raw_sentences:\n",
    "    if(len(raw_sentence)>0):\n",
    "        sentences.append(sentence_to_wordlist(raw_sentence))"
   ]
  },
  {
   "cell_type": "code",
   "execution_count": 75,
   "metadata": {
    "collapsed": false
   },
   "outputs": [
    {
     "name": "stdout",
     "output_type": "stream",
     "text": [
      "The maester did not believe in omens.\n",
      "[u'The', u'maester', u'did', u'not', u'believe', u'in', u'omens']\n"
     ]
    }
   ],
   "source": [
    "print(raw_sentences[15])\n",
    "print(sentences[15])"
   ]
  },
  {
   "cell_type": "code",
   "execution_count": 76,
   "metadata": {
    "collapsed": false
   },
   "outputs": [
    {
     "name": "stdout",
     "output_type": "stream",
     "text": [
      "Total number of tokens are 1818103\n"
     ]
    }
   ],
   "source": [
    "#whenever we are dealing with words unicode is the format we want for vectors\n",
    "#and utf-8 is the format in reading from blobs\n",
    "total_tokens = sum([len(sentence) for sentence in sentences])\n",
    "print(\"Total number of tokens are {0}\".format(total_tokens))"
   ]
  },
  {
   "cell_type": "code",
   "execution_count": 77,
   "metadata": {
    "collapsed": false
   },
   "outputs": [
    {
     "name": "stdout",
     "output_type": "stream",
     "text": [
      "128868\n",
      "128868\n"
     ]
    }
   ],
   "source": [
    "print(len(sentences))\n",
    "print(len(raw_sentences))"
   ]
  },
  {
   "cell_type": "markdown",
   "metadata": {},
   "source": [
    "# Train Word2Vec"
   ]
  },
  {
   "cell_type": "markdown",
   "metadata": {},
   "source": [
    "word vectors and word embeddings are the same thing explaining the semantics of the word in a multi dimensional space"
   ]
  },
  {
   "cell_type": "markdown",
   "metadata": {},
   "source": [
    "if we enter a new word in to a trained word vector model then it would be closer to those words to which it shares similarity(semantics)"
   ]
  },
  {
   "cell_type": "markdown",
   "metadata": {},
   "source": [
    "post generating these word vectors(word embeddings) there are 3 main tasks that these vectors help us with: <br/> \n",
    "1) Distance <br/>\n",
    "2) Similarity <br/>\n",
    "3) Ranking <br/>"
   ]
  },
  {
   "cell_type": "code",
   "execution_count": 90,
   "metadata": {
    "collapsed": true
   },
   "outputs": [],
   "source": [
    "#Step 1: Build Model\n",
    "#number of features is the dimensionality of word vectors\n",
    "#Dimensionality of resulting word vectors\n",
    "#more dimensionality, more computationally expensive to train but more accurate\n",
    "#more dimensions = more generalized\n",
    "num_features = 300\n",
    "\n",
    "#minimum word count threshold\n",
    "min_word_count = 3  #smallest set of words we want to recognise when we convert to vectors\n",
    "\n",
    "#Number of threads to run in parallel\n",
    "num_workers = multiprocessing.cpu_count()  #more workers, faster we train\n",
    "\n",
    "#context window length\n",
    "context_size = 7 #looking 7 words here at a time while sliding through sentence word list\n",
    "\n",
    "#Downsample setting for frequent words\n",
    "#if more frequent the word is then it becomes less useful for the model\n",
    "#sets the minimum threshold beyond which if the freuqency increases then the word becomes non-useful\n",
    "downsampling = 1e-3\n",
    "\n",
    "#seed for the Random Number Generation, to make the results reproducible\n",
    "#deterministic, good for debugging\n",
    "seed = 1"
   ]
  },
  {
   "cell_type": "code",
   "execution_count": 91,
   "metadata": {
    "collapsed": true
   },
   "outputs": [],
   "source": [
    "thrones2vec = w2v.Word2Vec(\n",
    "                  sg=1,\n",
    "                  seed=seed,\n",
    "                  workers=num_workers,\n",
    "                  size=num_features,\n",
    "                  min_count=min_word_count,\n",
    "                  window=context_size,\n",
    "                  sample=downsampling)"
   ]
  },
  {
   "cell_type": "code",
   "execution_count": 92,
   "metadata": {
    "collapsed": false
   },
   "outputs": [],
   "source": [
    "thrones2vec.build_vocab(sentences=sentences)  #number representations we create and feed it into our model"
   ]
  },
  {
   "cell_type": "code",
   "execution_count": null,
   "metadata": {
    "collapsed": false
   },
   "outputs": [
    {
     "name": "stdout",
     "output_type": "stream",
     "text": [
      "Word2Vec vocbulary length: 17277\n"
     ]
    }
   ],
   "source": [
    "print (\"Word2Vec vocbulary length:\",len(thrones2vec.wv.vocab))"
   ]
  },
  {
   "cell_type": "markdown",
   "metadata": {},
   "source": [
    "# Start training"
   ]
  },
  {
   "cell_type": "code",
   "execution_count": null,
   "metadata": {
    "collapsed": false
   },
   "outputs": [],
   "source": [
    "thrones2vec.train(sentences)"
   ]
  },
  {
   "cell_type": "code",
   "execution_count": null,
   "metadata": {
    "collapsed": true
   },
   "outputs": [],
   "source": [
    "if not os.path.exists('word_vector_trained'):\n",
    "    os.mkdir('word_vector_trained')\n",
    "thrones2vec.save('word_vector_trained/thrones2vec.w2v')\n",
    "#saving the word vector to use it later"
   ]
  },
  {
   "cell_type": "markdown",
   "metadata": {},
   "source": [
    "# Explore the trained model"
   ]
  },
  {
   "cell_type": "code",
   "execution_count": null,
   "metadata": {
    "collapsed": false
   },
   "outputs": [],
   "source": [
    "thrones2vec = w2v.Word2Vec.load('word_vector_trained/thrones2vec.w2v')"
   ]
  },
  {
   "cell_type": "code",
   "execution_count": null,
   "metadata": {
    "collapsed": false
   },
   "outputs": [],
   "source": [
    "thrones2vec.wv.vocab"
   ]
  },
  {
   "cell_type": "markdown",
   "metadata": {},
   "source": [
    "### Compress the word vectors to 2D to visualize them"
   ]
  },
  {
   "cell_type": "code",
   "execution_count": null,
   "metadata": {
    "collapsed": true
   },
   "outputs": [],
   "source": [
    "tsne = sklearn.manifold.TSNE(n_components=2,random_state=0)  #takes n dimensional vector and squashes it to 2D"
   ]
  },
  {
   "cell_type": "code",
   "execution_count": null,
   "metadata": {
    "collapsed": false
   },
   "outputs": [],
   "source": [
    "all_word_vectors_matrix = thrones2vec.wv.syn0"
   ]
  },
  {
   "cell_type": "code",
   "execution_count": null,
   "metadata": {
    "collapsed": false
   },
   "outputs": [],
   "source": [
    "all_word_vectors_matrix.shape"
   ]
  },
  {
   "cell_type": "code",
   "execution_count": null,
   "metadata": {
    "collapsed": true
   },
   "outputs": [],
   "source": [
    "#17277 words and 300 features"
   ]
  },
  {
   "cell_type": "markdown",
   "metadata": {},
   "source": [
    "#### Train t-SNE to visualise later"
   ]
  },
  {
   "cell_type": "code",
   "execution_count": 25,
   "metadata": {
    "collapsed": true
   },
   "outputs": [],
   "source": [
    "all_word_vectors_matrix_2d = tsne.fit_transform(all_word_vectors_matrix)"
   ]
  },
  {
   "cell_type": "code",
   "execution_count": 55,
   "metadata": {
    "collapsed": false
   },
   "outputs": [],
   "source": [
    "points = pd.DataFrame(columns=['words','x','y'])\n",
    "words = [word for word in thrones2vec.wv.vocab]\n",
    "for i in range(all_word_vectors_matrix_2d.shape[0]):\n",
    "    points = points.append(pd.DataFrame([[words[i],all_word_vectors_matrix[i,0],all_word_vectors_matrix[i,0]]],\n",
    "                                        columns=['words','x','y']),\n",
    "                                        ignore_index=True)"
   ]
  },
  {
   "cell_type": "code",
   "execution_count": 57,
   "metadata": {
    "collapsed": false
   },
   "outputs": [
    {
     "data": {
      "text/plain": [
       "(11048, 3)"
      ]
     },
     "execution_count": 57,
     "metadata": {},
     "output_type": "execute_result"
    }
   ],
   "source": [
    "points.shape"
   ]
  },
  {
   "cell_type": "code",
   "execution_count": 58,
   "metadata": {
    "collapsed": true
   },
   "outputs": [],
   "source": [
    "sns.set_context('poster')"
   ]
  },
  {
   "cell_type": "code",
   "execution_count": 59,
   "metadata": {
    "collapsed": false
   },
   "outputs": [
    {
     "name": "stdout",
     "output_type": "stream",
     "text": [
      "Populating the interactive namespace from numpy and matplotlib\n"
     ]
    },
    {
     "name": "stderr",
     "output_type": "stream",
     "text": [
      "/usr/local/lib/python2.7/dist-packages/IPython/core/magics/pylab.py:161: UserWarning: pylab import has clobbered these variables: ['seed']\n",
      "`%matplotlib` prevents importing * from pylab and numpy\n",
      "  \"\\n`%matplotlib` prevents importing * from pylab and numpy\"\n"
     ]
    }
   ],
   "source": [
    "%pylab inline"
   ]
  },
  {
   "cell_type": "code",
   "execution_count": 61,
   "metadata": {
    "collapsed": false
   },
   "outputs": [
    {
     "data": {
      "text/plain": [
       "<matplotlib.axes.AxesSubplot at 0x7f0e08369c50>"
      ]
     },
     "execution_count": 61,
     "metadata": {},
     "output_type": "execute_result"
    },
    {
     "name": "stderr",
     "output_type": "stream",
     "text": [
      "/usr/lib/pymodules/python2.7/matplotlib/collections.py:548: FutureWarning: elementwise comparison failed; returning scalar instead, but in the future will perform elementwise comparison\n",
      "  if self._edgecolors == 'face':\n"
     ]
    },
    {
     "data": {
      "image/png": "[encoded data removed]",
      "text/plain": [
       "<matplotlib.figure.Figure at 0x7f0e076a6cd0>"
      ]
     },
     "metadata": {},
     "output_type": "display_data"
    }
   ],
   "source": [
    "points.plot.scatter(\"x\",\"y\",s=10,figsize=(20,12))"
   ]
  },
  {
   "cell_type": "code",
   "execution_count": null,
   "metadata": {
    "collapsed": true
   },
   "outputs": [],
   "source": [
    "def plot_region(x_bounds, y_bounds):\n",
    "    slice = points[\n",
    "        (x_bounds[0] <= points.x) &\n",
    "        (points.x <= x_bounds[1]) & \n",
    "        (y_bounds[0] <= points.y) &\n",
    "        (points.y <= y_bounds[1])\n",
    "    ]\n",
    "    \n",
    "    ax = slice.plot.scatter(\"x\", \"y\", s=35, figsize=(10, 8))\n",
    "    for i, point in slice.iterrows():\n",
    "        ax.text(point.x + 0.005, point.y + 0.005, point.words, fontsize=11)"
   ]
  },
  {
   "cell_type": "code",
   "execution_count": 66,
   "metadata": {
    "collapsed": false
   },
   "outputs": [
    {
     "data": {
      "image/png": "[encoded data removed]",
      "text/plain": [
       "<matplotlib.figure.Figure at 0x7f0e08295990>"
      ]
     },
     "metadata": {},
     "output_type": "display_data"
    }
   ],
   "source": [
    "plot_region(x_bounds=(1.5, 2.0), y_bounds=(1.5, 2.0))"
   ]
  },
  {
   "cell_type": "code",
   "execution_count": 67,
   "metadata": {
    "collapsed": false
   },
   "outputs": [
    {
     "data": {
      "text/plain": [
       "[(u'flaking', 0.9989832043647766),\n",
       " (u'Steel', 0.9956360459327698),\n",
       " (u'askew', 0.9954582452774048),\n",
       " (u'churned', 0.9952327013015747),\n",
       " (u'apron', 0.9950659871101379),\n",
       " (u'soles', 0.9948658347129822),\n",
       " (u'soot', 0.9947601556777954),\n",
       " (u'searing', 0.9943960905075073),\n",
       " (u'garment', 0.993938148021698),\n",
       " (u'slicing', 0.9937794208526611)]"
      ]
     },
     "execution_count": 67,
     "metadata": {},
     "output_type": "execute_result"
    }
   ],
   "source": [
    "thrones2vec.most_similar('stark')"
   ]
  },
  {
   "cell_type": "code",
   "execution_count": null,
   "metadata": {
    "collapsed": true
   },
   "outputs": [],
   "source": []
  }
 ],
 "metadata": {
  "kernelspec": {
   "display_name": "Python 2",
   "language": "python",
   "name": "python2"
  },
  "language_info": {
   "codemirror_mode": {
    "name": "ipython",
    "version": 2
   },
   "file_extension": ".py",
   "mimetype": "text/x-python",
   "name": "python",
   "nbconvert_exporter": "python",
   "pygments_lexer": "ipython2",
   "version": "2.7.6"
  }
 },
 "nbformat": 4,
 "nbformat_minor": 0
}
