{
 "cells": [
  {
   "cell_type": "markdown",
   "metadata": {},
   "source": [
    "Autoencoder : input layer, hidden layer and output layer\n",
    "output neurons are directly connected to the input neurons\n",
    "Goal is to make the output values match the input values\n",
    "First layer of the network is Encoder : since it's compressing the input data using dimensionality reduction methods and sends the compressed data to the hidden layer\n",
    "Last layer of the network is Decoder : since it tries to reconstruct the input from the hidden abstractions and representations in the hidden layer \n",
    "Application Domain:\n",
    "1) File compression - Encode a file to compress and decode it later\n",
    "2) Image Search - Search query to Image\n"
   ]
  }
 ],
 "metadata": {
  "kernelspec": {
   "display_name": "Python 2",
   "language": "python",
   "name": "python2"
  },
  "language_info": {
   "codemirror_mode": {
    "name": "ipython",
    "version": 2
   },
   "file_extension": ".py",
   "mimetype": "text/x-python",
   "name": "python",
   "nbconvert_exporter": "python",
   "pygments_lexer": "ipython2",
   "version": "2.7.6"
  }
 },
 "nbformat": 4,
 "nbformat_minor": 0
}
