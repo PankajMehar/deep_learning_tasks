{
 "cells": [
  {
   "cell_type": "markdown",
   "metadata": {
    "collapsed": true
   },
   "source": [
    "# Goal : To create word vectors from Game of Thrones dataset and analyze them to see semantic similarity"
   ]
  },
  {
   "cell_type": "markdown",
   "metadata": {},
   "source": [
    "## Summary Steps:\n",
    "### 1) Load dependencies (see next cell) \n",
    "### 2) Process data\n",
    "    a) download punkt (pre trained sentence tokenizer)\n",
    "    b) download stopwords list\n",
    "    c) construct a raw corpus by reading text data in utf-8 format\n",
    "    d) split corpus into sentences by using punkt tokenizer\n",
    "    e) convert sentences as list of import words using glob/regex (corpus turns to list of sentences where each sentence is a list of words)\n",
    "### 3) Train using word2vec\n",
    "    a) build vocab (get words in the vocabulary list)\n",
    "    b) train over the sentences using the vocab (to generate symantic context i.e. word vectors)\n",
    "    c) to visualise (reduce the dimensions to 2)\n",
    "    d) to check similarities use most_similar() & most_similar_cosmul() functions"
   ]
  },
  {
   "cell_type": "code",
   "execution_count": 2,
   "metadata": {
    "collapsed": true
   },
   "outputs": [],
   "source": [
    "#Step 0 : load dependencies\n",
    "from __future__ import print_function,division,absolute_import\n",
    "#reason we import future because it's the missing link between python 2 and 3\n",
    "#allows us to import functions of both (Acts as bridge between both)\n",
    "import codecs #for word encoding\n",
    "import glob ##finds all pathnames matching a pattern, like regex\n",
    "import multiprocessing #concurrency & multithreading & for faster processing\n",
    "import os #dealing with operating system like reading a file\n",
    "import pprint #pretty printing, human readable\n",
    "import re #granular regular expression\n",
    "import nltk #natural laguage tool kit\n",
    "import gensim.models.word2vec as w2v  #word to vectors\n",
    "import sklearn.manifold #dimensionality reduction\n",
    "import numpy as np\n",
    "import pandas as pd\n",
    "import matplotlib.pyplot as plt #plotting\n",
    "import seaborn as sns #visualisation"
   ]
  },
  {
   "cell_type": "code",
   "execution_count": 2,
   "metadata": {
    "collapsed": false
   },
   "outputs": [
    {
     "name": "stdout",
     "output_type": "stream",
     "text": [
      "[nltk_data] Downloading package punkt to /home/sayon/nltk_data...\n",
      "[nltk_data]   Package punkt is already up-to-date!\n",
      "[nltk_data] Downloading package stopwords to /home/sayon/nltk_data...\n",
      "[nltk_data]   Package stopwords is already up-to-date!\n"
     ]
    },
    {
     "data": {
      "text/plain": [
       "True"
      ]
     },
     "execution_count": 2,
     "metadata": {},
     "output_type": "execute_result"
    }
   ],
   "source": [
    "#Step 1 : process data\n",
    "#clean data\n",
    "nltk.download('punkt') #pretrained tokenizer\n",
    "nltk.download('stopwords') #contains common words like a,an, the, of etc."
   ]
  },
  {
   "cell_type": "code",
   "execution_count": 3,
   "metadata": {
    "collapsed": true
   },
   "outputs": [],
   "source": [
    "#get the book file names, matching txt files\n",
    "book_filenames = sorted(glob.glob(\"got_books/data/*.txt\"))"
   ]
  },
  {
   "cell_type": "code",
   "execution_count": 4,
   "metadata": {
    "collapsed": false
   },
   "outputs": [
    {
     "data": {
      "text/plain": [
       "['got_books/data/got1.txt',\n",
       " 'got_books/data/got2.txt',\n",
       " 'got_books/data/got3.txt',\n",
       " 'got_books/data/got4.txt',\n",
       " 'got_books/data/got5.txt']"
      ]
     },
     "execution_count": 4,
     "metadata": {},
     "output_type": "execute_result"
    }
   ],
   "source": [
    "book_filenames #= book_filenames[:2]"
   ]
  },
  {
   "cell_type": "code",
   "execution_count": 5,
   "metadata": {
    "collapsed": false
   },
   "outputs": [
    {
     "name": "stdout",
     "output_type": "stream",
     "text": [
      "Reading got_books/data/got1.txt....\n",
      "Corpus is now 1770659 characters long\n",
      "Reading got_books/data/got2.txt....\n",
      "Corpus is now 4071041 characters long\n",
      "Reading got_books/data/got3.txt....\n",
      "Corpus is now 6391405 characters long\n",
      "Reading got_books/data/got4.txt....\n",
      "Corpus is now 8107945 characters long\n",
      "Reading got_books/data/got5.txt....\n",
      "Corpus is now 9719485 characters long\n"
     ]
    }
   ],
   "source": [
    "#create raw corpus in utf-8 format, for that reason codecs is required\n",
    "corpus_raw = u\"\"\n",
    "for book in book_filenames:\n",
    "    print(\"Reading {0}....\".format(book))\n",
    "    with codecs.open(book,'r','utf-8') as book:\n",
    "        corpus_raw+=book.read()\n",
    "    print(\"Corpus is now {0} characters long\".format(len(corpus_raw)))"
   ]
  },
  {
   "cell_type": "markdown",
   "metadata": {},
   "source": [
    "# split corpus into sentences"
   ]
  },
  {
   "cell_type": "code",
   "execution_count": 6,
   "metadata": {
    "collapsed": true
   },
   "outputs": [],
   "source": [
    "tokenizer = nltk.data.load('tokenizers/punkt/english.pickle')"
   ]
  },
  {
   "cell_type": "code",
   "execution_count": 7,
   "metadata": {
    "collapsed": false
   },
   "outputs": [],
   "source": [
    "raw_sentences = tokenizer.tokenize(corpus_raw)"
   ]
  },
  {
   "cell_type": "code",
   "execution_count": 8,
   "metadata": {
    "collapsed": true
   },
   "outputs": [],
   "source": [
    "#convert into list of words\n",
    "#remove unnecessary characters, split into words,no hyphens\n",
    "#list of words\n",
    "def sentence_to_wordlist(raw):\n",
    "    clean = re.sub(\"[^a-zA-Z]\",\" \",raw)\n",
    "    words = clean.split()\n",
    "    return words"
   ]
  },
  {
   "cell_type": "code",
   "execution_count": 9,
   "metadata": {
    "collapsed": true
   },
   "outputs": [],
   "source": [
    "#sentence where each word is tokenized\n",
    "sentences = []\n",
    "for raw_sentence in raw_sentences:\n",
    "    if(len(raw_sentence)>0):\n",
    "        sentences.append(sentence_to_wordlist(raw_sentence))"
   ]
  },
  {
   "cell_type": "code",
   "execution_count": 10,
   "metadata": {
    "collapsed": false
   },
   "outputs": [
    {
     "name": "stdout",
     "output_type": "stream",
     "text": [
      "The maester did not believe in omens.\n",
      "[u'The', u'maester', u'did', u'not', u'believe', u'in', u'omens']\n"
     ]
    }
   ],
   "source": [
    "print(raw_sentences[15])\n",
    "print(sentences[15])"
   ]
  },
  {
   "cell_type": "code",
   "execution_count": 11,
   "metadata": {
    "collapsed": false
   },
   "outputs": [
    {
     "name": "stdout",
     "output_type": "stream",
     "text": [
      "Total number of tokens are 1818103\n"
     ]
    }
   ],
   "source": [
    "#whenever we are dealing with words unicode is the format we want for vectors\n",
    "#and utf-8 is the format in reading from blobs\n",
    "total_tokens = sum([len(sentence) for sentence in sentences])\n",
    "print(\"Total number of tokens are {0}\".format(total_tokens))"
   ]
  },
  {
   "cell_type": "code",
   "execution_count": 12,
   "metadata": {
    "collapsed": false
   },
   "outputs": [
    {
     "name": "stdout",
     "output_type": "stream",
     "text": [
      "128868\n",
      "128868\n"
     ]
    }
   ],
   "source": [
    "print(len(sentences))\n",
    "print(len(raw_sentences))"
   ]
  },
  {
   "cell_type": "markdown",
   "metadata": {},
   "source": [
    "# Train Word2Vec"
   ]
  },
  {
   "cell_type": "markdown",
   "metadata": {},
   "source": [
    "word vectors and word embeddings are the same thing explaining the semantics of the word in a multi dimensional space"
   ]
  },
  {
   "cell_type": "markdown",
   "metadata": {},
   "source": [
    "if we enter a new word in to a trained word vector model then it would be closer to those words to which it shares similarity(semantics)"
   ]
  },
  {
   "cell_type": "markdown",
   "metadata": {},
   "source": [
    "post generating these word vectors(word embeddings) there are 3 main tasks that these vectors help us with: <br/> \n",
    "1) Distance <br/>\n",
    "2) Similarity <br/>\n",
    "3) Ranking <br/>"
   ]
  },
  {
   "cell_type": "code",
   "execution_count": 13,
   "metadata": {
    "collapsed": true
   },
   "outputs": [],
   "source": [
    "#Step 1: Build Model\n",
    "#number of features is the dimensionality of word vectors\n",
    "#Dimensionality of resulting word vectors\n",
    "#more dimensionality, more computationally expensive to train but more accurate\n",
    "#more dimensions = more generalized\n",
    "num_features = 300\n",
    "\n",
    "#minimum word count threshold\n",
    "min_word_count = 3  #smallest set of words we want to recognise when we convert to vectors\n",
    "\n",
    "#Number of threads to run in parallel\n",
    "num_workers = multiprocessing.cpu_count()  #more workers, faster we train\n",
    "\n",
    "#context window length\n",
    "context_size = 7 #looking 7 words here at a time while sliding through sentence word list\n",
    "\n",
    "#Downsample setting for frequent words\n",
    "#if more frequent the word is then it becomes less useful for the model\n",
    "#sets the minimum threshold beyond which if the freuqency increases then the word becomes non-useful\n",
    "downsampling = 1e-3\n",
    "\n",
    "#seed for the Random Number Generation, to make the results reproducible\n",
    "#deterministic, good for debugging\n",
    "seed = 1"
   ]
  },
  {
   "cell_type": "code",
   "execution_count": 14,
   "metadata": {
    "collapsed": true
   },
   "outputs": [],
   "source": [
    "thrones2vec = w2v.Word2Vec(\n",
    "                  sg=1,\n",
    "                  seed=seed,\n",
    "                  workers=num_workers,\n",
    "                  size=num_features,\n",
    "                  min_count=min_word_count,\n",
    "                  window=context_size,\n",
    "                  sample=downsampling)"
   ]
  },
  {
   "cell_type": "code",
   "execution_count": 15,
   "metadata": {
    "collapsed": false
   },
   "outputs": [],
   "source": [
    "thrones2vec.build_vocab(sentences=sentences)  #number representations we create and feed it into our model"
   ]
  },
  {
   "cell_type": "code",
   "execution_count": 16,
   "metadata": {
    "collapsed": false
   },
   "outputs": [
    {
     "name": "stdout",
     "output_type": "stream",
     "text": [
      "Word2Vec vocbulary length: 17277\n"
     ]
    }
   ],
   "source": [
    "print (\"Word2Vec vocbulary length:\",len(thrones2vec.wv.vocab))"
   ]
  },
  {
   "cell_type": "markdown",
   "metadata": {},
   "source": [
    "# Start training"
   ]
  },
  {
   "cell_type": "code",
   "execution_count": 17,
   "metadata": {
    "collapsed": false
   },
   "outputs": [
    {
     "data": {
      "text/plain": [
       "7023153"
      ]
     },
     "execution_count": 17,
     "metadata": {},
     "output_type": "execute_result"
    }
   ],
   "source": [
    "thrones2vec.train(sentences)"
   ]
  },
  {
   "cell_type": "code",
   "execution_count": 18,
   "metadata": {
    "collapsed": true
   },
   "outputs": [],
   "source": [
    "if not os.path.exists('word_vector_trained'):\n",
    "    os.mkdir('word_vector_trained')\n",
    "thrones2vec.save('word_vector_trained/thrones2vec.w2v')\n",
    "#saving the word vector to use it later"
   ]
  },
  {
   "cell_type": "markdown",
   "metadata": {},
   "source": [
    "# Explore the trained model"
   ]
  },
  {
   "cell_type": "code",
   "execution_count": 3,
   "metadata": {
    "collapsed": false
   },
   "outputs": [],
   "source": [
    "thrones2vec = w2v.Word2Vec.load('word_vector_trained/thrones2vec.w2v')"
   ]
  },
  {
   "cell_type": "code",
   "execution_count": 4,
   "metadata": {
    "collapsed": false
   },
   "outputs": [
    {
     "data": {
      "text/plain": [
       "{u'fawn': <gensim.models.keyedvectors.Vocab at 0x7fb30095f8d0>,\n",
       " u'raining': <gensim.models.keyedvectors.Vocab at 0x7fb30095f910>,\n",
       " u'writings': <gensim.models.keyedvectors.Vocab at 0x7fb30095f950>,\n",
       " u'Ysilla': <gensim.models.keyedvectors.Vocab at 0x7fb30095f990>,\n",
       " u'Rory': <gensim.models.keyedvectors.Vocab at 0x7fb2c2e0e490>,\n",
       " u'hordes': <gensim.models.keyedvectors.Vocab at 0x7fb30095fa10>,\n",
       " u'mustachio': <gensim.models.keyedvectors.Vocab at 0x7fb2c7a46850>,\n",
       " u'Greyjoy': <gensim.models.keyedvectors.Vocab at 0x7fb2c7a46890>,\n",
       " u'yellow': <gensim.models.keyedvectors.Vocab at 0x7fb2c7a46910>,\n",
       " u'four': <gensim.models.keyedvectors.Vocab at 0x7fb2c7a46950>,\n",
       " u'prices': <gensim.models.keyedvectors.Vocab at 0x7fb2c2e0e4d0>,\n",
       " u'woods': <gensim.models.keyedvectors.Vocab at 0x7fb2c7a469d0>,\n",
       " u'clotted': <gensim.models.keyedvectors.Vocab at 0x7fb2c7a46a10>,\n",
       " u'spiders': <gensim.models.keyedvectors.Vocab at 0x7fb2c7a46a50>,\n",
       " u'hanging': <gensim.models.keyedvectors.Vocab at 0x7fb2c7a46a90>,\n",
       " u'ringlets': <gensim.models.keyedvectors.Vocab at 0x7fb2c7a46ad0>,\n",
       " u'Until': <gensim.models.keyedvectors.Vocab at 0x7fb2c7a46b10>,\n",
       " u'vassals': <gensim.models.keyedvectors.Vocab at 0x7fb2c7a46b50>,\n",
       " u'marching': <gensim.models.keyedvectors.Vocab at 0x7fb2c7a46b90>,\n",
       " u'LAST': <gensim.models.keyedvectors.Vocab at 0x7fb2c7a46c10>,\n",
       " u'granting': <gensim.models.keyedvectors.Vocab at 0x7fb2c7a46c50>,\n",
       " u'snowing': <gensim.models.keyedvectors.Vocab at 0x7fb2c7a46c90>,\n",
       " u'dragonbone': <gensim.models.keyedvectors.Vocab at 0x7fb2c7a46cd0>,\n",
       " u'rouse': <gensim.models.keyedvectors.Vocab at 0x7fb2c2c04ad0>,\n",
       " u'scold': <gensim.models.keyedvectors.Vocab at 0x7fb2c7a46d10>,\n",
       " u'unanswered': <gensim.models.keyedvectors.Vocab at 0x7fb2c7a46d50>,\n",
       " u'sunlit': <gensim.models.keyedvectors.Vocab at 0x7fb2c7a46d90>,\n",
       " u'Ronald': <gensim.models.keyedvectors.Vocab at 0x7fb2c7a46dd0>,\n",
       " u'fingernails': <gensim.models.keyedvectors.Vocab at 0x7fb2c7a46e10>,\n",
       " u'clanked': <gensim.models.keyedvectors.Vocab at 0x7fb2c3586dd0>,\n",
       " u'Western': <gensim.models.keyedvectors.Vocab at 0x7fb2c7a46e90>,\n",
       " u'Fishfoot': <gensim.models.keyedvectors.Vocab at 0x7fb2c7a46ed0>,\n",
       " u'crossbar': <gensim.models.keyedvectors.Vocab at 0x7fb2c7a46f10>,\n",
       " u'sputter': <gensim.models.keyedvectors.Vocab at 0x7fb2c7a46f50>,\n",
       " u'Roelle': <gensim.models.keyedvectors.Vocab at 0x7fb2c7a46f90>,\n",
       " u'meadows': <gensim.models.keyedvectors.Vocab at 0x7fb2c7a46fd0>,\n",
       " u'shaving': <gensim.models.keyedvectors.Vocab at 0x7fb2c7581050>,\n",
       " u'sinking': <gensim.models.keyedvectors.Vocab at 0x7fb2c7581090>,\n",
       " u'Declarant': <gensim.models.keyedvectors.Vocab at 0x7fb2c2c2a850>,\n",
       " u'Drowning': <gensim.models.keyedvectors.Vocab at 0x7fb2c75810d0>,\n",
       " u'kennels': <gensim.models.keyedvectors.Vocab at 0x7fb2c7581110>,\n",
       " u'wracked': <gensim.models.keyedvectors.Vocab at 0x7fb2c7581150>,\n",
       " u'Yna': <gensim.models.keyedvectors.Vocab at 0x7fb2c7581250>,\n",
       " u'knelt': <gensim.models.keyedvectors.Vocab at 0x7fb2c307fed0>,\n",
       " u'rearguard': <gensim.models.keyedvectors.Vocab at 0x7fb2c75812d0>,\n",
       " u'figs': <gensim.models.keyedvectors.Vocab at 0x7fb2c7581310>,\n",
       " u'Old': <gensim.models.keyedvectors.Vocab at 0x7fb2c7581350>,\n",
       " u'stabbed': <gensim.models.keyedvectors.Vocab at 0x7fb2c7581390>,\n",
       " u'screaming': <gensim.models.keyedvectors.Vocab at 0x7fb2c75813d0>,\n",
       " u'worshiper': <gensim.models.keyedvectors.Vocab at 0x7fb2c3586e50>,\n",
       " u'Varamyr': <gensim.models.keyedvectors.Vocab at 0x7fb2c7581490>,\n",
       " u'Lest': <gensim.models.keyedvectors.Vocab at 0x7fb2c75814d0>,\n",
       " u'wooded': <gensim.models.keyedvectors.Vocab at 0x7fb2c7581510>,\n",
       " u'prize': <gensim.models.keyedvectors.Vocab at 0x7fb2c7581550>,\n",
       " u'Less': <gensim.models.keyedvectors.Vocab at 0x7fb2c7581590>,\n",
       " u'wooden': <gensim.models.keyedvectors.Vocab at 0x7fb2c75815d0>,\n",
       " u'Sack': <gensim.models.keyedvectors.Vocab at 0x7fb2c7581610>,\n",
       " u'Jeren': <gensim.models.keyedvectors.Vocab at 0x7fb2c7581650>,\n",
       " u'Winding': <gensim.models.keyedvectors.Vocab at 0x7fb2c38cd510>,\n",
       " u'persisted': <gensim.models.keyedvectors.Vocab at 0x7fb2c7581710>,\n",
       " u'Does': <gensim.models.keyedvectors.Vocab at 0x7fb2c7581750>,\n",
       " u'crotch': <gensim.models.keyedvectors.Vocab at 0x7fb2c7581790>,\n",
       " u'pisspot': <gensim.models.keyedvectors.Vocab at 0x7fb2c75817d0>,\n",
       " u'Untie': <gensim.models.keyedvectors.Vocab at 0x7fb2c7581810>,\n",
       " u'Paul': <gensim.models.keyedvectors.Vocab at 0x7fb2c7581850>,\n",
       " u'festered': <gensim.models.keyedvectors.Vocab at 0x7fb2c7581890>,\n",
       " u'commented': <gensim.models.keyedvectors.Vocab at 0x7fb2c75818d0>,\n",
       " u'nightlands': <gensim.models.keyedvectors.Vocab at 0x7fb2c7581910>,\n",
       " u'guardsmen': <gensim.models.keyedvectors.Vocab at 0x7fb2c7581950>,\n",
       " u'ornamental': <gensim.models.keyedvectors.Vocab at 0x7fb2c38d8310>,\n",
       " u'bill': <gensim.models.keyedvectors.Vocab at 0x7fb2c2e0e850>,\n",
       " u'BEN': <gensim.models.keyedvectors.Vocab at 0x7fb2c7581a50>,\n",
       " u'sooty': <gensim.models.keyedvectors.Vocab at 0x7fb2c7581a90>,\n",
       " u'nigh': <gensim.models.keyedvectors.Vocab at 0x7fb2c7581ad0>,\n",
       " u'tired': <gensim.models.keyedvectors.Vocab at 0x7fb2c7581b10>,\n",
       " u'miller': <gensim.models.keyedvectors.Vocab at 0x7fb2c7581b50>,\n",
       " u'ornate': <gensim.models.keyedvectors.Vocab at 0x7fb2c7581b90>,\n",
       " u'scrapes': <gensim.models.keyedvectors.Vocab at 0x7fb2c7581bd0>,\n",
       " u'pulse': <gensim.models.keyedvectors.Vocab at 0x7fb2c7581c10>,\n",
       " u'BEE': <gensim.models.keyedvectors.Vocab at 0x7fb2c7581c50>,\n",
       " u'Oaf': <gensim.models.keyedvectors.Vocab at 0x7fb2c2bd6890>,\n",
       " u'elegant': <gensim.models.keyedvectors.Vocab at 0x7fb2c7581c90>,\n",
       " u'rusty': <gensim.models.keyedvectors.Vocab at 0x7fb2c7581cd0>,\n",
       " u'crisply': <gensim.models.keyedvectors.Vocab at 0x7fb2c7581d10>,\n",
       " u'valiant': <gensim.models.keyedvectors.Vocab at 0x7fb2c7581dd0>,\n",
       " u'Wildling': <gensim.models.keyedvectors.Vocab at 0x7fb2c2ab3dd0>,\n",
       " u'sailed': <gensim.models.keyedvectors.Vocab at 0x7fb2c7581e10>,\n",
       " u'scraped': <gensim.models.keyedvectors.Vocab at 0x7fb2c7581e50>,\n",
       " u'Greyshield': <gensim.models.keyedvectors.Vocab at 0x7fb2c7581e90>,\n",
       " u'haughtily': <gensim.models.keyedvectors.Vocab at 0x7fb2c7581f10>,\n",
       " u'milled': <gensim.models.keyedvectors.Vocab at 0x7fb2c7581f50>,\n",
       " u'battleground': <gensim.models.keyedvectors.Vocab at 0x7fb2c300a0d0>,\n",
       " u'dangled': <gensim.models.keyedvectors.Vocab at 0x7fb2c7581fd0>,\n",
       " u'Redwynes': <gensim.models.keyedvectors.Vocab at 0x7fb2c758c050>,\n",
       " u'thunder': <gensim.models.keyedvectors.Vocab at 0x7fb2c758c0d0>,\n",
       " u'cooking': <gensim.models.keyedvectors.Vocab at 0x7fb2c758c110>,\n",
       " u'fingers': <gensim.models.keyedvectors.Vocab at 0x7fb2c758c150>,\n",
       " u'Weary': <gensim.models.keyedvectors.Vocab at 0x7fb2c360fa50>,\n",
       " u'Wrong': <gensim.models.keyedvectors.Vocab at 0x7fb2c758c1d0>,\n",
       " u'Wisps': <gensim.models.keyedvectors.Vocab at 0x7fb2c2c13990>,\n",
       " u'pawed': <gensim.models.keyedvectors.Vocab at 0x7fb2c758c250>,\n",
       " u'admiral': <gensim.models.keyedvectors.Vocab at 0x7fb2c758c2d0>,\n",
       " u'whimpery': <gensim.models.keyedvectors.Vocab at 0x7fb2c2e0e9d0>,\n",
       " u'misjudged': <gensim.models.keyedvectors.Vocab at 0x7fb2c38fa910>,\n",
       " u'hero': <gensim.models.keyedvectors.Vocab at 0x7fb2c758c390>,\n",
       " u'avert': <gensim.models.keyedvectors.Vocab at 0x7fb2c758c3d0>,\n",
       " u'chins': <gensim.models.keyedvectors.Vocab at 0x7fb2c758c410>,\n",
       " u'Plate': <gensim.models.keyedvectors.Vocab at 0x7fb2c300a1d0>,\n",
       " u'herb': <gensim.models.keyedvectors.Vocab at 0x7fb2c758c490>,\n",
       " u'Mohor': <gensim.models.keyedvectors.Vocab at 0x7fb2c758c4d0>,\n",
       " u'Borroq': <gensim.models.keyedvectors.Vocab at 0x7fb2c758c510>,\n",
       " u'unseemly': <gensim.models.keyedvectors.Vocab at 0x7fb2c758c550>,\n",
       " u'herd': <gensim.models.keyedvectors.Vocab at 0x7fb2c389b490>,\n",
       " u'reported': <gensim.models.keyedvectors.Vocab at 0x7fb2c758c5d0>,\n",
       " u'sculptor': <gensim.models.keyedvectors.Vocab at 0x7fb2c2afb150>,\n",
       " u'fissures': <gensim.models.keyedvectors.Vocab at 0x7fb2c758c690>,\n",
       " u'Targaryens': <gensim.models.keyedvectors.Vocab at 0x7fb2c758c6d0>,\n",
       " u'splinted': <gensim.models.keyedvectors.Vocab at 0x7fb2c758c710>,\n",
       " u'chink': <gensim.models.keyedvectors.Vocab at 0x7fb2c758c750>,\n",
       " u'natured': <gensim.models.keyedvectors.Vocab at 0x7fb2c758c790>,\n",
       " u'easier': <gensim.models.keyedvectors.Vocab at 0x7fb2c2c1fb10>,\n",
       " u'strewn': <gensim.models.keyedvectors.Vocab at 0x7fb2c758c850>,\n",
       " u'elaborate': <gensim.models.keyedvectors.Vocab at 0x7fb2c758c910>,\n",
       " u'climbed': <gensim.models.keyedvectors.Vocab at 0x7fb2c758c950>,\n",
       " u'Swyft': <gensim.models.keyedvectors.Vocab at 0x7fb2c758c990>,\n",
       " u'Jewels': <gensim.models.keyedvectors.Vocab at 0x7fb2c758c9d0>,\n",
       " u'Elmar': <gensim.models.keyedvectors.Vocab at 0x7fb2c758ca50>,\n",
       " u'Farther': <gensim.models.keyedvectors.Vocab at 0x7fb2c758cad0>,\n",
       " u'MERRY': <gensim.models.keyedvectors.Vocab at 0x7fb2c758cb10>,\n",
       " u'waycastle': <gensim.models.keyedvectors.Vocab at 0x7fb2c758cb50>,\n",
       " u'NOW': <gensim.models.keyedvectors.Vocab at 0x7fb2c758cb90>,\n",
       " u'rudely': <gensim.models.keyedvectors.Vocab at 0x7fb2c2d95890>,\n",
       " u'Isles': <gensim.models.keyedvectors.Vocab at 0x7fb2c758cc10>,\n",
       " u'Stand': <gensim.models.keyedvectors.Vocab at 0x7fb2c3510290>,\n",
       " u'golden': <gensim.models.keyedvectors.Vocab at 0x7fb2c758ccd0>,\n",
       " u'Compared': <gensim.models.keyedvectors.Vocab at 0x7fb2c758cd10>,\n",
       " u'Quincy': <gensim.models.keyedvectors.Vocab at 0x7fb2c758cd50>,\n",
       " u'OLLO': <gensim.models.keyedvectors.Vocab at 0x7fb2c758cd90>,\n",
       " u'constipated': <gensim.models.keyedvectors.Vocab at 0x7fb2c758cdd0>,\n",
       " u'explained': <gensim.models.keyedvectors.Vocab at 0x7fb2c758ce50>,\n",
       " u'lengthen': <gensim.models.keyedvectors.Vocab at 0x7fb2c758ce90>,\n",
       " u'summons': <gensim.models.keyedvectors.Vocab at 0x7fb2c758ced0>,\n",
       " u'brought': <gensim.models.keyedvectors.Vocab at 0x7fb2c758cf10>,\n",
       " u'APPENDIX': <gensim.models.keyedvectors.Vocab at 0x7fb2c758cf50>,\n",
       " u'BONIFER': <gensim.models.keyedvectors.Vocab at 0x7fb2c758cf90>,\n",
       " u'stern': <gensim.models.keyedvectors.Vocab at 0x7fb2c758cfd0>,\n",
       " u'Aegons': <gensim.models.keyedvectors.Vocab at 0x7fb2c300a390>,\n",
       " u'cheating': <gensim.models.keyedvectors.Vocab at 0x7fb2c75970d0>,\n",
       " u'spoke': <gensim.models.keyedvectors.Vocab at 0x7fb2c7597110>,\n",
       " u'Danwell': <gensim.models.keyedvectors.Vocab at 0x7fb2c7597150>,\n",
       " u'Penniless': <gensim.models.keyedvectors.Vocab at 0x7fb2c7597190>,\n",
       " u'Slate': <gensim.models.keyedvectors.Vocab at 0x7fb2c75971d0>,\n",
       " u'glimmering': <gensim.models.keyedvectors.Vocab at 0x7fb2c7597210>,\n",
       " u'cannibal': <gensim.models.keyedvectors.Vocab at 0x7fb2c7597250>,\n",
       " u'serjeant': <gensim.models.keyedvectors.Vocab at 0x7fb2c75972d0>,\n",
       " u'kettles': <gensim.models.keyedvectors.Vocab at 0x7fb2c7597310>,\n",
       " u'music': <gensim.models.keyedvectors.Vocab at 0x7fb2c7597350>,\n",
       " u'knighted': <gensim.models.keyedvectors.Vocab at 0x7fb2c2b7f490>,\n",
       " u'strike': <gensim.models.keyedvectors.Vocab at 0x7fb2c75973d0>,\n",
       " u'heralded': <gensim.models.keyedvectors.Vocab at 0x7fb2c7597410>,\n",
       " u'delude': <gensim.models.keyedvectors.Vocab at 0x7fb2c2a54750>,\n",
       " u'until': <gensim.models.keyedvectors.Vocab at 0x7fb2c75974d0>,\n",
       " u'Val': <gensim.models.keyedvectors.Vocab at 0x7fb2c2b201d0>,\n",
       " u'SHEPHERD': <gensim.models.keyedvectors.Vocab at 0x7fb2c7597510>,\n",
       " u'whorls': <gensim.models.keyedvectors.Vocab at 0x7fb2c7597550>,\n",
       " u'holy': <gensim.models.keyedvectors.Vocab at 0x7fb2c7597590>,\n",
       " u'successful': <gensim.models.keyedvectors.Vocab at 0x7fb2c75975d0>,\n",
       " u'brings': <gensim.models.keyedvectors.Vocab at 0x7fb2c7597610>,\n",
       " u'huntress': <gensim.models.keyedvectors.Vocab at 0x7fb2c7597650>,\n",
       " u'gashes': <gensim.models.keyedvectors.Vocab at 0x7fb2c7597690>,\n",
       " u'whirling': <gensim.models.keyedvectors.Vocab at 0x7fb2c75976d0>,\n",
       " u'Rule': <gensim.models.keyedvectors.Vocab at 0x7fb2c7597710>,\n",
       " u'hurt': <gensim.models.keyedvectors.Vocab at 0x7fb2c7597750>,\n",
       " u'Inform': <gensim.models.keyedvectors.Vocab at 0x7fb2c7597790>,\n",
       " u'tying': <gensim.models.keyedvectors.Vocab at 0x7fb2c75977d0>,\n",
       " u'lord': <gensim.models.keyedvectors.Vocab at 0x7fb2c7597810>,\n",
       " u'midst': <gensim.models.keyedvectors.Vocab at 0x7fb2c7597850>,\n",
       " u'rancor': <gensim.models.keyedvectors.Vocab at 0x7fb2c2e0ed10>,\n",
       " u'gashed': <gensim.models.keyedvectors.Vocab at 0x7fb2c75978d0>,\n",
       " u'BITER': <gensim.models.keyedvectors.Vocab at 0x7fb2c7597910>,\n",
       " u'circumstances': <gensim.models.keyedvectors.Vocab at 0x7fb2c3852750>,\n",
       " u'Indigo': <gensim.models.keyedvectors.Vocab at 0x7fb2c3852b90>,\n",
       " u'EDD': <gensim.models.keyedvectors.Vocab at 0x7fb2c75979d0>,\n",
       " u'Ibben': <gensim.models.keyedvectors.Vocab at 0x7fb2c2e0ed90>,\n",
       " u'garnets': <gensim.models.keyedvectors.Vocab at 0x7fb2c2bf80d0>,\n",
       " u'sway': <gensim.models.keyedvectors.Vocab at 0x7fb2c300a590>,\n",
       " u'famed': <gensim.models.keyedvectors.Vocab at 0x7fb2c7597a90>,\n",
       " u'blade': <gensim.models.keyedvectors.Vocab at 0x7fb2c7597ad0>,\n",
       " u'wineskin': <gensim.models.keyedvectors.Vocab at 0x7fb2c7597b10>,\n",
       " u'Hollow': <gensim.models.keyedvectors.Vocab at 0x7fb2c7597b50>,\n",
       " u'warhorns': <gensim.models.keyedvectors.Vocab at 0x7fb2c7597bd0>,\n",
       " u'Mern': <gensim.models.keyedvectors.Vocab at 0x7fb2c385f910>,\n",
       " u'Mero': <gensim.models.keyedvectors.Vocab at 0x7fb2c7597c50>,\n",
       " u'Kayce': <gensim.models.keyedvectors.Vocab at 0x7fb2c7597c90>,\n",
       " u'example': <gensim.models.keyedvectors.Vocab at 0x7fb2c7597cd0>,\n",
       " u'STANNIS': <gensim.models.keyedvectors.Vocab at 0x7fb2c7597d10>,\n",
       " u'melons': <gensim.models.keyedvectors.Vocab at 0x7fb2c7597d50>,\n",
       " u'moonrise': <gensim.models.keyedvectors.Vocab at 0x7fb2c7597d90>,\n",
       " u'triple': <gensim.models.keyedvectors.Vocab at 0x7fb2c7597dd0>,\n",
       " u'unjust': <gensim.models.keyedvectors.Vocab at 0x7fb2c7597e10>,\n",
       " u'household': <gensim.models.keyedvectors.Vocab at 0x7fb2c7597e50>,\n",
       " u'OWEN': <gensim.models.keyedvectors.Vocab at 0x7fb2c7597e90>,\n",
       " u'organized': <gensim.models.keyedvectors.Vocab at 0x7fb2c7597ed0>,\n",
       " u'dinted': <gensim.models.keyedvectors.Vocab at 0x7fb2c300a690>,\n",
       " u'dragons': <gensim.models.keyedvectors.Vocab at 0x7fb2c7597f50>,\n",
       " u'malign': <gensim.models.keyedvectors.Vocab at 0x7fb2c7597f90>,\n",
       " u'Lu': <gensim.models.keyedvectors.Vocab at 0x7fb2c7597fd0>,\n",
       " u'MOTT': <gensim.models.keyedvectors.Vocab at 0x7fb2c75a2050>,\n",
       " u'kingdoms': <gensim.models.keyedvectors.Vocab at 0x7fb2c3510610>,\n",
       " u'want': <gensim.models.keyedvectors.Vocab at 0x7fb2c75a20d0>,\n",
       " u'mail': <gensim.models.keyedvectors.Vocab at 0x7fb2c2f76e10>,\n",
       " u'wormways': <gensim.models.keyedvectors.Vocab at 0x7fb2c75a2110>,\n",
       " u'whelping': <gensim.models.keyedvectors.Vocab at 0x7fb2c75a2150>,\n",
       " u'honest': <gensim.models.keyedvectors.Vocab at 0x7fb2c3510650>,\n",
       " u'preferably': <gensim.models.keyedvectors.Vocab at 0x7fb2c75a2210>,\n",
       " u'groaned': <gensim.models.keyedvectors.Vocab at 0x7fb2c75a2290>,\n",
       " u'complaining': <gensim.models.keyedvectors.Vocab at 0x7fb2c75a22d0>,\n",
       " u'travel': <gensim.models.keyedvectors.Vocab at 0x7fb2c75a2310>,\n",
       " u'drying': <gensim.models.keyedvectors.Vocab at 0x7fb2c75a2350>,\n",
       " u'damage': <gensim.models.keyedvectors.Vocab at 0x7fb2c75a2390>,\n",
       " u'Quaithe': <gensim.models.keyedvectors.Vocab at 0x7fb2c75a23d0>,\n",
       " u'Killing': <gensim.models.keyedvectors.Vocab at 0x7fb2c75a2410>,\n",
       " u'how': <gensim.models.keyedvectors.Vocab at 0x7fb2c75a2450>,\n",
       " u'hot': <gensim.models.keyedvectors.Vocab at 0x7fb2c75a2490>,\n",
       " u'hop': <gensim.models.keyedvectors.Vocab at 0x7fb2c75a24d0>,\n",
       " u'Falcon': <gensim.models.keyedvectors.Vocab at 0x7fb2c75a2510>,\n",
       " u'Naerys': <gensim.models.keyedvectors.Vocab at 0x7fb2c75a2590>,\n",
       " u'dignified': <gensim.models.keyedvectors.Vocab at 0x7fb2c75a25d0>,\n",
       " u'swine': <gensim.models.keyedvectors.Vocab at 0x7fb2c2c13e50>,\n",
       " u'A': <gensim.models.keyedvectors.Vocab at 0x7fb2c75a2650>,\n",
       " u'Tobho': <gensim.models.keyedvectors.Vocab at 0x7fb2c75a2690>,\n",
       " u'paste': <gensim.models.keyedvectors.Vocab at 0x7fb2c2a756d0>,\n",
       " u'beauty': <gensim.models.keyedvectors.Vocab at 0x7fb2c75a26d0>,\n",
       " u'envied': <gensim.models.keyedvectors.Vocab at 0x7fb2c2c13ed0>,\n",
       " u'outfight': <gensim.models.keyedvectors.Vocab at 0x7fb2c75a2750>,\n",
       " u'shores': <gensim.models.keyedvectors.Vocab at 0x7fb2c75a2790>,\n",
       " u'wrong': <gensim.models.keyedvectors.Vocab at 0x7fb2c75a27d0>,\n",
       " u'MIGHTY': <gensim.models.keyedvectors.Vocab at 0x7fb2c75a2810>,\n",
       " u'destined': <gensim.models.keyedvectors.Vocab at 0x7fb2c75a2850>,\n",
       " u'Hurriedly': <gensim.models.keyedvectors.Vocab at 0x7fb2c2fda450>,\n",
       " u'HARWOOD': <gensim.models.keyedvectors.Vocab at 0x7fb2c75a2890>,\n",
       " u'Fogo': <gensim.models.keyedvectors.Vocab at 0x7fb2c75a28d0>,\n",
       " u'Addam': <gensim.models.keyedvectors.Vocab at 0x7fb2c75a2910>,\n",
       " u'starlight': <gensim.models.keyedvectors.Vocab at 0x7fb2c75a2950>,\n",
       " u'MELLARIO': <gensim.models.keyedvectors.Vocab at 0x7fb2c75a2990>,\n",
       " u'calves': <gensim.models.keyedvectors.Vocab at 0x7fb2c75a29d0>,\n",
       " u'welts': <gensim.models.keyedvectors.Vocab at 0x7fb2c75a2a10>,\n",
       " u'scourge': <gensim.models.keyedvectors.Vocab at 0x7fb2c75a2a50>,\n",
       " u'wins': <gensim.models.keyedvectors.Vocab at 0x7fb2c75a2a90>,\n",
       " u'youths': <gensim.models.keyedvectors.Vocab at 0x7fb2c75a2ad0>,\n",
       " u'LOOSE': <gensim.models.keyedvectors.Vocab at 0x7fb2c75a2b10>,\n",
       " u'revolt': <gensim.models.keyedvectors.Vocab at 0x7fb2c75a2b50>,\n",
       " u'Eric': <gensim.models.keyedvectors.Vocab at 0x7fb2c3510910>,\n",
       " u'sickening': <gensim.models.keyedvectors.Vocab at 0x7fb2c75a2bd0>,\n",
       " u'baggage': <gensim.models.keyedvectors.Vocab at 0x7fb2c75a2c10>,\n",
       " u'snowballs': <gensim.models.keyedvectors.Vocab at 0x7fb2c75a2c90>,\n",
       " u'Another': <gensim.models.keyedvectors.Vocab at 0x7fb2c75a2cd0>,\n",
       " u'keeps': <gensim.models.keyedvectors.Vocab at 0x7fb2c75a2d10>,\n",
       " u'Tumblestone': <gensim.models.keyedvectors.Vocab at 0x7fb2c75a2d50>,\n",
       " u'wing': <gensim.models.keyedvectors.Vocab at 0x7fb2c75a2d90>,\n",
       " u'wind': <gensim.models.keyedvectors.Vocab at 0x7fb2c75a2dd0>,\n",
       " u'wine': <gensim.models.keyedvectors.Vocab at 0x7fb2c75a2e10>,\n",
       " u'sprawling': <gensim.models.keyedvectors.Vocab at 0x7fb2c3510990>,\n",
       " u'Karstark': <gensim.models.keyedvectors.Vocab at 0x7fb2c75a2ed0>,\n",
       " u'Roro': <gensim.models.keyedvectors.Vocab at 0x7fb2c2e0e150>,\n",
       " u'welcomed': <gensim.models.keyedvectors.Vocab at 0x7fb2c75a2f10>,\n",
       " u'dreamed': <gensim.models.keyedvectors.Vocab at 0x7fb2c75a2f50>,\n",
       " u'Obsidian': <gensim.models.keyedvectors.Vocab at 0x7fb2c300a910>,\n",
       " u'feign': <gensim.models.keyedvectors.Vocab at 0x7fb2c2c1f110>,\n",
       " u'profaned': <gensim.models.keyedvectors.Vocab at 0x7fb2c75ac050>,\n",
       " u'reached': <gensim.models.keyedvectors.Vocab at 0x7fb2c2d95c10>,\n",
       " u'greyer': <gensim.models.keyedvectors.Vocab at 0x7fb2c2e19150>,\n",
       " u'rewarded': <gensim.models.keyedvectors.Vocab at 0x7fb2c75ac0d0>,\n",
       " u'wrought': <gensim.models.keyedvectors.Vocab at 0x7fb2c75ac110>,\n",
       " u'admirably': <gensim.models.keyedvectors.Vocab at 0x7fb2c75ac150>,\n",
       " u'His': <gensim.models.keyedvectors.Vocab at 0x7fb2c75ac190>,\n",
       " u'fit': <gensim.models.keyedvectors.Vocab at 0x7fb2c75ac1d0>,\n",
       " u'bringing': <gensim.models.keyedvectors.Vocab at 0x7fb2c75ac210>,\n",
       " u'fix': <gensim.models.keyedvectors.Vocab at 0x7fb2c75ac250>,\n",
       " u'survivors': <gensim.models.keyedvectors.Vocab at 0x7fb2c75ac290>,\n",
       " u'septry': <gensim.models.keyedvectors.Vocab at 0x7fb2c75ac2d0>,\n",
       " u'narrowest': <gensim.models.keyedvectors.Vocab at 0x7fb2c75ac310>,\n",
       " u'Barber': <gensim.models.keyedvectors.Vocab at 0x7fb2c75ac350>,\n",
       " u'fig': <gensim.models.keyedvectors.Vocab at 0x7fb2c75ac390>,\n",
       " u'mewling': <gensim.models.keyedvectors.Vocab at 0x7fb2c75ac3d0>,\n",
       " u'MARTIN': <gensim.models.keyedvectors.Vocab at 0x7fb2c75ac410>,\n",
       " u'nobler': <gensim.models.keyedvectors.Vocab at 0x7fb2c75ac450>,\n",
       " u'nobles': <gensim.models.keyedvectors.Vocab at 0x7fb2c75ac490>,\n",
       " u'hidden': <gensim.models.keyedvectors.Vocab at 0x7fb2c75ac4d0>,\n",
       " u'admirable': <gensim.models.keyedvectors.Vocab at 0x7fb2c75ac510>,\n",
       " u'Him': <gensim.models.keyedvectors.Vocab at 0x7fb2c75ac550>,\n",
       " u'hawthorn': <gensim.models.keyedvectors.Vocab at 0x7fb2c75ac590>,\n",
       " u'grievous': <gensim.models.keyedvectors.Vocab at 0x7fb2c75ac5d0>,\n",
       " u'corridor': <gensim.models.keyedvectors.Vocab at 0x7fb2c2e19210>,\n",
       " u'thrones': <gensim.models.keyedvectors.Vocab at 0x7fb2c75ac650>,\n",
       " u'slate': <gensim.models.keyedvectors.Vocab at 0x7fb2c75ac6d0>,\n",
       " u'disturb': <gensim.models.keyedvectors.Vocab at 0x7fb2c75ac710>,\n",
       " u'Skahaz': <gensim.models.keyedvectors.Vocab at 0x7fb2c37cfc50>,\n",
       " u'HIGH': <gensim.models.keyedvectors.Vocab at 0x7fb2c75ac7d0>,\n",
       " u'wasteland': <gensim.models.keyedvectors.Vocab at 0x7fb2c75ac810>,\n",
       " u'shadows': <gensim.models.keyedvectors.Vocab at 0x7fb2c2cca610>,\n",
       " u'sixteen': <gensim.models.keyedvectors.Vocab at 0x7fb2c75ac890>,\n",
       " u'slats': <gensim.models.keyedvectors.Vocab at 0x7fb2c75ac8d0>,\n",
       " u'silver': <gensim.models.keyedvectors.Vocab at 0x7fb2c75ac910>,\n",
       " u'saddened': <gensim.models.keyedvectors.Vocab at 0x7fb2c75ac950>,\n",
       " u'Sothoros': <gensim.models.keyedvectors.Vocab at 0x7fb2c75ac990>,\n",
       " u'Bulwer': <gensim.models.keyedvectors.Vocab at 0x7fb2c75ac9d0>,\n",
       " u'vipers': <gensim.models.keyedvectors.Vocab at 0x7fb2c75aca10>,\n",
       " u'Start': <gensim.models.keyedvectors.Vocab at 0x7fb2c75aca50>,\n",
       " u'whacking': <gensim.models.keyedvectors.Vocab at 0x7fb2c75aca90>,\n",
       " u'grasslands': <gensim.models.keyedvectors.Vocab at 0x7fb2c75acb10>,\n",
       " u'towered': <gensim.models.keyedvectors.Vocab at 0x7fb2c75acb50>,\n",
       " u'Gurn': <gensim.models.keyedvectors.Vocab at 0x7fb2c2cf5250>,\n",
       " u'pleasantries': <gensim.models.keyedvectors.Vocab at 0x7fb2c75acb90>,\n",
       " u'Shame': <gensim.models.keyedvectors.Vocab at 0x7fb2c75acbd0>,\n",
       " u'SEAWORTH': <gensim.models.keyedvectors.Vocab at 0x7fb2c75acc10>,\n",
       " u'Hobber': <gensim.models.keyedvectors.Vocab at 0x7fb2c75acc50>,\n",
       " u'arrow': <gensim.models.keyedvectors.Vocab at 0x7fb2c75acc90>,\n",
       " u'Tourmaline': <gensim.models.keyedvectors.Vocab at 0x7fb2c75accd0>,\n",
       " u'Rosewood': <gensim.models.keyedvectors.Vocab at 0x7fb2c75acd50>,\n",
       " u'loyalties': <gensim.models.keyedvectors.Vocab at 0x7fb2c75acd90>,\n",
       " u'Mouse': <gensim.models.keyedvectors.Vocab at 0x7fb2c75acdd0>,\n",
       " u'ALYSANNE': <gensim.models.keyedvectors.Vocab at 0x7fb2c75ace10>,\n",
       " u'blushed': <gensim.models.keyedvectors.Vocab at 0x7fb2c75ace50>,\n",
       " u'windmill': <gensim.models.keyedvectors.Vocab at 0x7fb2c2e19350>,\n",
       " u'preceded': <gensim.models.keyedvectors.Vocab at 0x7fb2c75aced0>,\n",
       " u'whim': <gensim.models.keyedvectors.Vocab at 0x7fb2c75acf10>,\n",
       " u'Perchance': <gensim.models.keyedvectors.Vocab at 0x7fb2c75acf50>,\n",
       " u'snakes': <gensim.models.keyedvectors.Vocab at 0x7fb2c35c3150>,\n",
       " u'woes': <gensim.models.keyedvectors.Vocab at 0x7fb2c75acfd0>,\n",
       " u'sandbars': <gensim.models.keyedvectors.Vocab at 0x7fb2c38cd050>,\n",
       " u'garment': <gensim.models.keyedvectors.Vocab at 0x7fb2c38cd090>,\n",
       " u'spider': <gensim.models.keyedvectors.Vocab at 0x7fb2c38cd0d0>,\n",
       " u'bowls': <gensim.models.keyedvectors.Vocab at 0x7fb2c38cd110>,\n",
       " u'solution': <gensim.models.keyedvectors.Vocab at 0x7fb2c300ac50>,\n",
       " u'snaked': <gensim.models.keyedvectors.Vocab at 0x7fb2c38cd190>,\n",
       " u'strips': <gensim.models.keyedvectors.Vocab at 0x7fb2c2e19410>,\n",
       " u'turnip': <gensim.models.keyedvectors.Vocab at 0x7fb2c38cd210>,\n",
       " u'Bonifer': <gensim.models.keyedvectors.Vocab at 0x7fb2c38cd250>,\n",
       " u'fortnight': <gensim.models.keyedvectors.Vocab at 0x7fb2c38cd290>,\n",
       " u'knitting': <gensim.models.keyedvectors.Vocab at 0x7fb2c38cd2d0>,\n",
       " u'whit': <gensim.models.keyedvectors.Vocab at 0x7fb2c38cd310>,\n",
       " u'DEZIEL': <gensim.models.keyedvectors.Vocab at 0x7fb2c38cd350>,\n",
       " u'blinded': <gensim.models.keyedvectors.Vocab at 0x7fb2c38cd390>,\n",
       " u'whip': <gensim.models.keyedvectors.Vocab at 0x7fb2c38cd3d0>,\n",
       " u'borne': <gensim.models.keyedvectors.Vocab at 0x7fb2c38cd410>,\n",
       " u'misfortune': <gensim.models.keyedvectors.Vocab at 0x7fb2c38cd450>,\n",
       " u'drove': <gensim.models.keyedvectors.Vocab at 0x7fb2c38cd490>,\n",
       " u'centaurs': <gensim.models.keyedvectors.Vocab at 0x7fb2c38cd4d0>,\n",
       " u'DRUMM': <gensim.models.keyedvectors.Vocab at 0x7fb2c38cd550>,\n",
       " u'smirk': <gensim.models.keyedvectors.Vocab at 0x7fb2c38cd590>,\n",
       " u'ha': <gensim.models.keyedvectors.Vocab at 0x7fb2c2ab3d10>,\n",
       " u'whoosh': <gensim.models.keyedvectors.Vocab at 0x7fb2c38cd5d0>,\n",
       " u'TYSANE': <gensim.models.keyedvectors.Vocab at 0x7fb2c38cd610>,\n",
       " u're': <gensim.models.keyedvectors.Vocab at 0x7fb2c38cd650>,\n",
       " u'encourage': <gensim.models.keyedvectors.Vocab at 0x7fb2c38cd690>,\n",
       " u'SELMY': <gensim.models.keyedvectors.Vocab at 0x7fb2c38cd6d0>,\n",
       " u'archmaester': <gensim.models.keyedvectors.Vocab at 0x7fb2c38cd710>,\n",
       " u'unarmored': <gensim.models.keyedvectors.Vocab at 0x7fb2c38cd750>,\n",
       " u'pardons': <gensim.models.keyedvectors.Vocab at 0x7fb2c300ad50>,\n",
       " u'tricksy': <gensim.models.keyedvectors.Vocab at 0x7fb2c38cd7d0>,\n",
       " u'hafted': <gensim.models.keyedvectors.Vocab at 0x7fb2c2b05890>,\n",
       " u'Awkwardly': <gensim.models.keyedvectors.Vocab at 0x7fb2c38cd810>,\n",
       " u'outburst': <gensim.models.keyedvectors.Vocab at 0x7fb2c38cd850>,\n",
       " u'mopped': <gensim.models.keyedvectors.Vocab at 0x7fb2c300ad90>,\n",
       " u'foundation': <gensim.models.keyedvectors.Vocab at 0x7fb2c38cd8d0>,\n",
       " u'stamping': <gensim.models.keyedvectors.Vocab at 0x7fb2c38cd910>,\n",
       " u'Word': <gensim.models.keyedvectors.Vocab at 0x7fb2c38cd950>,\n",
       " u'assured': <gensim.models.keyedvectors.Vocab at 0x7fb2c38cd990>,\n",
       " u'peddler': <gensim.models.keyedvectors.Vocab at 0x7fb2c2c1f650>,\n",
       " u'succession': <gensim.models.keyedvectors.Vocab at 0x7fb2c38cda10>,\n",
       " u'threatened': <gensim.models.keyedvectors.Vocab at 0x7fb2c38cda50>,\n",
       " u'fugitive': <gensim.models.keyedvectors.Vocab at 0x7fb2c38cda90>,\n",
       " u'Benfred': <gensim.models.keyedvectors.Vocab at 0x7fb2c38cdb10>,\n",
       " u'assures': <gensim.models.keyedvectors.Vocab at 0x7fb2c38cdb50>,\n",
       " u'Benfrey': <gensim.models.keyedvectors.Vocab at 0x7fb2c38cdb90>,\n",
       " u'pumpkins': <gensim.models.keyedvectors.Vocab at 0x7fb2c38cdbd0>,\n",
       " u'grapes': <gensim.models.keyedvectors.Vocab at 0x7fb2c379da50>,\n",
       " u'tinkled': <gensim.models.keyedvectors.Vocab at 0x7fb2c38cdc50>,\n",
       " u'Sunspear': <gensim.models.keyedvectors.Vocab at 0x7fb2c38cdc90>,\n",
       " u'estimate': <gensim.models.keyedvectors.Vocab at 0x7fb2c38cdcd0>,\n",
       " u'Egg': <gensim.models.keyedvectors.Vocab at 0x7fb2c38cdd50>,\n",
       " u'withered': <gensim.models.keyedvectors.Vocab at 0x7fb2c347e410>,\n",
       " u'enormous': <gensim.models.keyedvectors.Vocab at 0x7fb2c38cdd90>,\n",
       " u'ate': <gensim.models.keyedvectors.Vocab at 0x7fb2c38cddd0>,\n",
       " u'Greenshield': <gensim.models.keyedvectors.Vocab at 0x7fb2c38cde10>,\n",
       " u'eared': <gensim.models.keyedvectors.Vocab at 0x7fb2c38cde50>,\n",
       " u'shelves': <gensim.models.keyedvectors.Vocab at 0x7fb2c38cde90>,\n",
       " u'Kingsgrave': <gensim.models.keyedvectors.Vocab at 0x7fb2c2dfff50>,\n",
       " u'undergaoler': <gensim.models.keyedvectors.Vocab at 0x7fb2c38cdf10>,\n",
       " u'usurpers': <gensim.models.keyedvectors.Vocab at 0x7fb2c2b7f7d0>,\n",
       " u'moment': <gensim.models.keyedvectors.Vocab at 0x7fb2c38cdf50>,\n",
       " u'Horn': <gensim.models.keyedvectors.Vocab at 0x7fb2c38cdf90>,\n",
       " u'shipped': <gensim.models.keyedvectors.Vocab at 0x7fb2c38cdfd0>,\n",
       " u'disturbed': <gensim.models.keyedvectors.Vocab at 0x7fb2c38d8050>,\n",
       " u'Mighty': <gensim.models.keyedvectors.Vocab at 0x7fb2c38d8090>,\n",
       " u'knobby': <gensim.models.keyedvectors.Vocab at 0x7fb2c38d80d0>,\n",
       " u'tempting': <gensim.models.keyedvectors.Vocab at 0x7fb2c38d8110>,\n",
       " u'Shieldhall': <gensim.models.keyedvectors.Vocab at 0x7fb2c38d8150>,\n",
       " u'wobbling': <gensim.models.keyedvectors.Vocab at 0x7fb2c38d8190>,\n",
       " u'potions': <gensim.models.keyedvectors.Vocab at 0x7fb2c38d81d0>,\n",
       " u'purpose': <gensim.models.keyedvectors.Vocab at 0x7fb2c2e19790>,\n",
       " u'Dun': <gensim.models.keyedvectors.Vocab at 0x7fb2c38d82d0>,\n",
       " u'Acolyte': <gensim.models.keyedvectors.Vocab at 0x7fb2c2c1f810>,\n",
       " u'disfigured': <gensim.models.keyedvectors.Vocab at 0x7fb2c38d8390>,\n",
       " u'Please': <gensim.models.keyedvectors.Vocab at 0x7fb2c38d83d0>,\n",
       " u'Gingerly': <gensim.models.keyedvectors.Vocab at 0x7fb2c38d8410>,\n",
       " u'wash': <gensim.models.keyedvectors.Vocab at 0x7fb2c38d8490>,\n",
       " u'instruct': <gensim.models.keyedvectors.Vocab at 0x7fb2c38d84d0>,\n",
       " u'Raiders': <gensim.models.keyedvectors.Vocab at 0x7fb2c300af10>,\n",
       " u'wasn': <gensim.models.keyedvectors.Vocab at 0x7fb2c38d8550>,\n",
       " u'Ralf': <gensim.models.keyedvectors.Vocab at 0x7fb2c38d8590>,\n",
       " u'clarity': <gensim.models.keyedvectors.Vocab at 0x7fb2c38d85d0>,\n",
       " u'Alysanne': <gensim.models.keyedvectors.Vocab at 0x7fb2c38d8610>,\n",
       " u'Vylarr': <gensim.models.keyedvectors.Vocab at 0x7fb2c2e6d3d0>,\n",
       " u'specially': <gensim.models.keyedvectors.Vocab at 0x7fb2c38d8650>,\n",
       " u'bitten': <gensim.models.keyedvectors.Vocab at 0x7fb2c38d8690>,\n",
       " u'masted': <gensim.models.keyedvectors.Vocab at 0x7fb2c38d86d0>,\n",
       " u'Man': <gensim.models.keyedvectors.Vocab at 0x7fb2c2e46990>,\n",
       " u'service': <gensim.models.keyedvectors.Vocab at 0x7fb2c38d8750>,\n",
       " u'whorehouse': <gensim.models.keyedvectors.Vocab at 0x7fb2c38d8790>,\n",
       " u'Laughter': <gensim.models.keyedvectors.Vocab at 0x7fb2c2e198d0>,\n",
       " u'returns': <gensim.models.keyedvectors.Vocab at 0x7fb2c2c1f910>,\n",
       " u'needed': <gensim.models.keyedvectors.Vocab at 0x7fb2c38d8810>,\n",
       " u'master': <gensim.models.keyedvectors.Vocab at 0x7fb2c38d8890>,\n",
       " u'legs': <gensim.models.keyedvectors.Vocab at 0x7fb2c38d8910>,\n",
       " u'bitter': <gensim.models.keyedvectors.Vocab at 0x7fb2c38d8950>,\n",
       " u'ranging': <gensim.models.keyedvectors.Vocab at 0x7fb2c38d8990>,\n",
       " u'rummaged': <gensim.models.keyedvectors.Vocab at 0x7fb2c38d89d0>,\n",
       " u'listen': <gensim.models.keyedvectors.Vocab at 0x7fb2c38d8a10>,\n",
       " u'rewards': <gensim.models.keyedvectors.Vocab at 0x7fb2c38d8a90>,\n",
       " u'collapse': <gensim.models.keyedvectors.Vocab at 0x7fb2c38d8ad0>,\n",
       " u'cushions': <gensim.models.keyedvectors.Vocab at 0x7fb2c38d8b10>,\n",
       " u'bacon': <gensim.models.keyedvectors.Vocab at 0x7fb2c38d8b50>,\n",
       " u'lumber': <gensim.models.keyedvectors.Vocab at 0x7fb2c2ddd8d0>,\n",
       " u'frowned': <gensim.models.keyedvectors.Vocab at 0x7fb2c38d8b90>,\n",
       " u'cisterns': <gensim.models.keyedvectors.Vocab at 0x7fb2c38d8bd0>,\n",
       " u'wisdom': <gensim.models.keyedvectors.Vocab at 0x7fb2c38d8c10>,\n",
       " u'incoherently': <gensim.models.keyedvectors.Vocab at 0x7fb2c2fe58d0>,\n",
       " u'Serving': <gensim.models.keyedvectors.Vocab at 0x7fb2c2e19990>,\n",
       " u'mutilated': <gensim.models.keyedvectors.Vocab at 0x7fb2c38d8c90>,\n",
       " u'Victory': <gensim.models.keyedvectors.Vocab at 0x7fb2c38d8cd0>,\n",
       " u'Ricasso': <gensim.models.keyedvectors.Vocab at 0x7fb2c38d8d10>,\n",
       " u'JASON': <gensim.models.keyedvectors.Vocab at 0x7fb2c38d8d50>,\n",
       " u'crawl': <gensim.models.keyedvectors.Vocab at 0x7fb2c38d8d90>,\n",
       " u'lunged': <gensim.models.keyedvectors.Vocab at 0x7fb2c38d8dd0>,\n",
       " u'coursers': <gensim.models.keyedvectors.Vocab at 0x7fb2c38d8e10>,\n",
       " u'Guardsmen': <gensim.models.keyedvectors.Vocab at 0x7fb2c38d8e50>,\n",
       " u'Beautiful': <gensim.models.keyedvectors.Vocab at 0x7fb2c38d8e90>,\n",
       " u'surer': <gensim.models.keyedvectors.Vocab at 0x7fb2c38d8ed0>,\n",
       " u'peril': <gensim.models.keyedvectors.Vocab at 0x7fb2c38d8f10>,\n",
       " u'Plainly': <gensim.models.keyedvectors.Vocab at 0x7fb2c2e19a10>,\n",
       " u'showed': <gensim.models.keyedvectors.Vocab at 0x7fb2c38d8f90>,\n",
       " u'outlaw': <gensim.models.keyedvectors.Vocab at 0x7fb2c38d8fd0>,\n",
       " u'Ryon': <gensim.models.keyedvectors.Vocab at 0x7fb2c38e3050>,\n",
       " u'likely': <gensim.models.keyedvectors.Vocab at 0x7fb2c3015110>,\n",
       " u'idly': <gensim.models.keyedvectors.Vocab at 0x7fb2c38e30d0>,\n",
       " u'nations': <gensim.models.keyedvectors.Vocab at 0x7fb2c3776650>,\n",
       " u'shower': <gensim.models.keyedvectors.Vocab at 0x7fb2c38e3150>,\n",
       " u'idle': <gensim.models.keyedvectors.Vocab at 0x7fb2c38e3190>,\n",
       " u'exclaimed': <gensim.models.keyedvectors.Vocab at 0x7fb2c38e31d0>,\n",
       " u'endure': <gensim.models.keyedvectors.Vocab at 0x7fb2c38e3210>,\n",
       " u'feeling': <gensim.models.keyedvectors.Vocab at 0x7fb2c38e3250>,\n",
       " u'dragonglass': <gensim.models.keyedvectors.Vocab at 0x7fb2c2c1fb90>,\n",
       " u'groaning': <gensim.models.keyedvectors.Vocab at 0x7fb2c38e3310>,\n",
       " u'fevered': <gensim.models.keyedvectors.Vocab at 0x7fb2c38e3350>,\n",
       " u'hue': <gensim.models.keyedvectors.Vocab at 0x7fb2c2c1fbd0>,\n",
       " u'shyly': <gensim.models.keyedvectors.Vocab at 0x7fb2c38e33d0>,\n",
       " u'Pypar': <gensim.models.keyedvectors.Vocab at 0x7fb2c3015210>,\n",
       " u'politely': <gensim.models.keyedvectors.Vocab at 0x7fb2c34df390>,\n",
       " u'brewer': <gensim.models.keyedvectors.Vocab at 0x7fb2c2c971d0>,\n",
       " u'PAEGE': <gensim.models.keyedvectors.Vocab at 0x7fb2c38e34d0>,\n",
       " u'jars': <gensim.models.keyedvectors.Vocab at 0x7fb2c2a5ffd0>,\n",
       " u'headland': <gensim.models.keyedvectors.Vocab at 0x7fb2c38e3510>,\n",
       " u'Rolland': <gensim.models.keyedvectors.Vocab at 0x7fb2c38e3590>,\n",
       " u'brawny': <gensim.models.keyedvectors.Vocab at 0x7fb2c38e35d0>,\n",
       " u'Holly': <gensim.models.keyedvectors.Vocab at 0x7fb2c38e3610>,\n",
       " u'constricted': <gensim.models.keyedvectors.Vocab at 0x7fb2c38e3690>,\n",
       " u'Unbroken': <gensim.models.keyedvectors.Vocab at 0x7fb2c38e36d0>,\n",
       " u'dozen': <gensim.models.keyedvectors.Vocab at 0x7fb2c38e3710>,\n",
       " u'Theo': <gensim.models.keyedvectors.Vocab at 0x7fb2c38e3750>,\n",
       " u'Then': <gensim.models.keyedvectors.Vocab at 0x7fb2c38e3790>,\n",
       " u'Them': <gensim.models.keyedvectors.Vocab at 0x7fb2c38e37d0>,\n",
       " u'loathing': <gensim.models.keyedvectors.Vocab at 0x7fb2c38e3810>,\n",
       " u'Thee': <gensim.models.keyedvectors.Vocab at 0x7fb2c38e3850>,\n",
       " u'uncouth': <gensim.models.keyedvectors.Vocab at 0x7fb2c38e3890>,\n",
       " u'eagerly': <gensim.models.keyedvectors.Vocab at 0x7fb2c38e3910>,\n",
       " u'metallic': <gensim.models.keyedvectors.Vocab at 0x7fb2c38e3950>,\n",
       " u'Bane': <gensim.models.keyedvectors.Vocab at 0x7fb2c38e3990>,\n",
       " u'toothed': <gensim.models.keyedvectors.Vocab at 0x7fb2c38e39d0>,\n",
       " u'regaling': <gensim.models.keyedvectors.Vocab at 0x7fb2c2e19bd0>,\n",
       " u'absorbed': <gensim.models.keyedvectors.Vocab at 0x7fb2c38e3a50>,\n",
       " u'defiantly': <gensim.models.keyedvectors.Vocab at 0x7fb2c38e3a90>,\n",
       " u'They': <gensim.models.keyedvectors.Vocab at 0x7fb2c38e3ad0>,\n",
       " u'brains': <gensim.models.keyedvectors.Vocab at 0x7fb2c351c350>,\n",
       " u'Ask': <gensim.models.keyedvectors.Vocab at 0x7fb2c38e3b50>,\n",
       " u'castellan': <gensim.models.keyedvectors.Vocab at 0x7fb2c38e3b90>,\n",
       " u'Bank': <gensim.models.keyedvectors.Vocab at 0x7fb2c38e3bd0>,\n",
       " u'Mathis': <gensim.models.keyedvectors.Vocab at 0x7fb2c38e3c10>,\n",
       " u'pander': <gensim.models.keyedvectors.Vocab at 0x7fb2c3015310>,\n",
       " u'horselords': <gensim.models.keyedvectors.Vocab at 0x7fb2c38e3c90>,\n",
       " u'Wise': <gensim.models.keyedvectors.Vocab at 0x7fb2c38e3cd0>,\n",
       " u'stirrup': <gensim.models.keyedvectors.Vocab at 0x7fb2c38e3d10>,\n",
       " u'shall': <gensim.models.keyedvectors.Vocab at 0x7fb2c3723e50>,\n",
       " u'thrilled': <gensim.models.keyedvectors.Vocab at 0x7fb2c38e3d90>,\n",
       " u'Taena': <gensim.models.keyedvectors.Vocab at 0x7fb2c351c390>,\n",
       " u'advanced': <gensim.models.keyedvectors.Vocab at 0x7fb2c2b2b6d0>,\n",
       " u'object': <gensim.models.keyedvectors.Vocab at 0x7fb2c38e3e10>,\n",
       " u'vexing': <gensim.models.keyedvectors.Vocab at 0x7fb2c38e3e50>,\n",
       " u'looming': <gensim.models.keyedvectors.Vocab at 0x7fb2c38e3e90>,\n",
       " u'mouth': <gensim.models.keyedvectors.Vocab at 0x7fb2c38e3ed0>,\n",
       " u'reverence': <gensim.models.keyedvectors.Vocab at 0x7fb2c38e3f10>,\n",
       " u'conceded': <gensim.models.keyedvectors.Vocab at 0x7fb2c38e3f50>,\n",
       " u'eyeless': <gensim.models.keyedvectors.Vocab at 0x7fb2c38e3f90>,\n",
       " u'hut': <gensim.models.keyedvectors.Vocab at 0x7fb2c2c1fe50>,\n",
       " u'singer': <gensim.models.keyedvectors.Vocab at 0x7fb2c38ef050>,\n",
       " u'IMP': <gensim.models.keyedvectors.Vocab at 0x7fb2c2c1fe90>,\n",
       " u'grove': <gensim.models.keyedvectors.Vocab at 0x7fb2c38ef110>,\n",
       " u'crenels': <gensim.models.keyedvectors.Vocab at 0x7fb2c38ef150>,\n",
       " u'FACE': <gensim.models.keyedvectors.Vocab at 0x7fb2c38ef190>,\n",
       " u'nettle': <gensim.models.keyedvectors.Vocab at 0x7fb2c38ef1d0>,\n",
       " u'singed': <gensim.models.keyedvectors.Vocab at 0x7fb2c38ef210>,\n",
       " u'braying': <gensim.models.keyedvectors.Vocab at 0x7fb2c38ef250>,\n",
       " u'Gerrick': <gensim.models.keyedvectors.Vocab at 0x7fb2c38ef290>,\n",
       " u'ugliest': <gensim.models.keyedvectors.Vocab at 0x7fb2c2c8cf90>,\n",
       " u'Alester': <gensim.models.keyedvectors.Vocab at 0x7fb2c38ef2d0>,\n",
       " u'mating': <gensim.models.keyedvectors.Vocab at 0x7fb2c38ef310>,\n",
       " u'scream': <gensim.models.keyedvectors.Vocab at 0x7fb2c38ef350>,\n",
       " u'swordswench': <gensim.models.keyedvectors.Vocab at 0x7fb2c38ef390>,\n",
       " u'Ofttimes': <gensim.models.keyedvectors.Vocab at 0x7fb2c2c1ff10>,\n",
       " u'saying': <gensim.models.keyedvectors.Vocab at 0x7fb2c38ef410>,\n",
       " u'signatures': <gensim.models.keyedvectors.Vocab at 0x7fb2c38ef450>,\n",
       " u'departing': <gensim.models.keyedvectors.Vocab at 0x7fb2c38ef490>,\n",
       " u'reclined': <gensim.models.keyedvectors.Vocab at 0x7fb2c38ef4d0>,\n",
       " u'meetings': <gensim.models.keyedvectors.Vocab at 0x7fb2c38ef510>,\n",
       " u'advisors': <gensim.models.keyedvectors.Vocab at 0x7fb2c38ef550>,\n",
       " u'utterly': <gensim.models.keyedvectors.Vocab at 0x7fb2c2e46c10>,\n",
       " u'padded': <gensim.models.keyedvectors.Vocab at 0x7fb2c38ef590>,\n",
       " u'Lhazareen': <gensim.models.keyedvectors.Vocab at 0x7fb2c38ef5d0>,\n",
       " u'fennel': <gensim.models.keyedvectors.Vocab at 0x7fb2c38ef610>,\n",
       " u'Geremy': <gensim.models.keyedvectors.Vocab at 0x7fb2c38ef650>,\n",
       " u'WELLS': <gensim.models.keyedvectors.Vocab at 0x7fb2c3015450>,\n",
       " u'falsehoods': <gensim.models.keyedvectors.Vocab at 0x7fb2c38ef6d0>,\n",
       " u'Daryn': <gensim.models.keyedvectors.Vocab at 0x7fb2c38ef710>,\n",
       " u'tempted': <gensim.models.keyedvectors.Vocab at 0x7fb2c38ef750>,\n",
       " u'cheaply': <gensim.models.keyedvectors.Vocab at 0x7fb2c38ef790>,\n",
       " u'Marywn': <gensim.models.keyedvectors.Vocab at 0x7fb2c38ef7d0>,\n",
       " u'abreast': <gensim.models.keyedvectors.Vocab at 0x7fb2c38ef810>,\n",
       " u'hounded': <gensim.models.keyedvectors.Vocab at 0x7fb2c38ef850>,\n",
       " u'lessons': <gensim.models.keyedvectors.Vocab at 0x7fb2c38ef890>,\n",
       " u'touches': <gensim.models.keyedvectors.Vocab at 0x7fb2c38ef910>,\n",
       " u'busy': <gensim.models.keyedvectors.Vocab at 0x7fb2c36db790>,\n",
       " u'clicked': <gensim.models.keyedvectors.Vocab at 0x7fb2c38ef990>,\n",
       " u'shuffling': <gensim.models.keyedvectors.Vocab at 0x7fb2c38ef9d0>,\n",
       " u'cousins': <gensim.models.keyedvectors.Vocab at 0x7fb2c38efa10>,\n",
       " u'buxom': <gensim.models.keyedvectors.Vocab at 0x7fb2c38efa90>,\n",
       " u'unskilled': <gensim.models.keyedvectors.Vocab at 0x7fb2c30154d0>,\n",
       " u'Banefort': <gensim.models.keyedvectors.Vocab at 0x7fb2c38efb10>,\n",
       " u'bush': <gensim.models.keyedvectors.Vocab at 0x7fb2c38efb50>,\n",
       " u'bliss': <gensim.models.keyedvectors.Vocab at 0x7fb2c38efb90>,\n",
       " u'touched': <gensim.models.keyedvectors.Vocab at 0x7fb2c38efbd0>,\n",
       " u'rich': <gensim.models.keyedvectors.Vocab at 0x7fb2c38efc10>,\n",
       " u'Mollen': <gensim.models.keyedvectors.Vocab at 0x7fb2c38efc50>,\n",
       " u'mend': <gensim.models.keyedvectors.Vocab at 0x7fb2c38efc90>,\n",
       " u'arakh': <gensim.models.keyedvectors.Vocab at 0x7fb2c38efcd0>,\n",
       " u'codfish': <gensim.models.keyedvectors.Vocab at 0x7fb2c38efd10>,\n",
       " u'Magister': <gensim.models.keyedvectors.Vocab at 0x7fb2c2f6b910>,\n",
       " u'pocked': <gensim.models.keyedvectors.Vocab at 0x7fb2c38efd50>,\n",
       " u'plate': <gensim.models.keyedvectors.Vocab at 0x7fb2c38efd90>,\n",
       " u'irritably': <gensim.models.keyedvectors.Vocab at 0x7fb2c2e19e50>,\n",
       " u'Whores': <gensim.models.keyedvectors.Vocab at 0x7fb2c38efe10>,\n",
       " u'shavepates': <gensim.models.keyedvectors.Vocab at 0x7fb2c3015550>,\n",
       " u'stammered': <gensim.models.keyedvectors.Vocab at 0x7fb2c38efe90>,\n",
       " u'Marillion': <gensim.models.keyedvectors.Vocab at 0x7fb2c38efed0>,\n",
       " u'rescuer': <gensim.models.keyedvectors.Vocab at 0x7fb2c3745a50>,\n",
       " u'terrors': <gensim.models.keyedvectors.Vocab at 0x7fb2c38eff10>,\n",
       " u'crackled': <gensim.models.keyedvectors.Vocab at 0x7fb2c38eff50>,\n",
       " u'pocket': <gensim.models.keyedvectors.Vocab at 0x7fb2c38eff90>,\n",
       " u'cushion': <gensim.models.keyedvectors.Vocab at 0x7fb2c38effd0>,\n",
       " u'altogether': <gensim.models.keyedvectors.Vocab at 0x7fb2c38fa050>,\n",
       " u'X': <gensim.models.keyedvectors.Vocab at 0x7fb2c36fd3d0>,\n",
       " u'relish': <gensim.models.keyedvectors.Vocab at 0x7fb2c38fa0d0>,\n",
       " u'sers': <gensim.models.keyedvectors.Vocab at 0x7fb2c2c2a0d0>,\n",
       " u'HIGHTOWER': <gensim.models.keyedvectors.Vocab at 0x7fb2c38fa190>,\n",
       " u'Dannel': <gensim.models.keyedvectors.Vocab at 0x7fb2c38fa1d0>,\n",
       " u'spilling': <gensim.models.keyedvectors.Vocab at 0x7fb2c38fa210>,\n",
       " u'nicely': <gensim.models.keyedvectors.Vocab at 0x7fb2c38fa250>,\n",
       " u'blanched': <gensim.models.keyedvectors.Vocab at 0x7fb2c38fa290>,\n",
       " u'dipping': <gensim.models.keyedvectors.Vocab at 0x7fb2c38fa2d0>,\n",
       " u'shape': <gensim.models.keyedvectors.Vocab at 0x7fb2c2e19f90>,\n",
       " u'patch': <gensim.models.keyedvectors.Vocab at 0x7fb2c38fa310>,\n",
       " u'eyelids': <gensim.models.keyedvectors.Vocab at 0x7fb2c38fa350>,\n",
       " u'Dancer': <gensim.models.keyedvectors.Vocab at 0x7fb2c38fa390>,\n",
       " u'lurched': <gensim.models.keyedvectors.Vocab at 0x7fb2c38fa3d0>,\n",
       " u'flanked': <gensim.models.keyedvectors.Vocab at 0x7fb2c38fa410>,\n",
       " u'release': <gensim.models.keyedvectors.Vocab at 0x7fb2c38fa490>,\n",
       " u'hasten': <gensim.models.keyedvectors.Vocab at 0x7fb2c38fa510>,\n",
       " u'boarded': <gensim.models.keyedvectors.Vocab at 0x7fb2c38fa550>,\n",
       " u'Clearly': <gensim.models.keyedvectors.Vocab at 0x7fb2c38fa590>,\n",
       " u'respond': <gensim.models.keyedvectors.Vocab at 0x7fb2c38fa610>,\n",
       " u'blew': <gensim.models.keyedvectors.Vocab at 0x7fb2c38fa650>,\n",
       " u'tousled': <gensim.models.keyedvectors.Vocab at 0x7fb2c38fa690>,\n",
       " u'disaster': <gensim.models.keyedvectors.Vocab at 0x7fb2c38fa6d0>,\n",
       " u'fair': <gensim.models.keyedvectors.Vocab at 0x7fb2c38fa710>,\n",
       " u'ALAYNE': <gensim.models.keyedvectors.Vocab at 0x7fb2c38fa750>,\n",
       " u'consummation': <gensim.models.keyedvectors.Vocab at 0x7fb2c38fa790>,\n",
       " u'niche': <gensim.models.keyedvectors.Vocab at 0x7fb2c3015790>,\n",
       " u'unexpectedly': <gensim.models.keyedvectors.Vocab at 0x7fb2c38fa850>,\n",
       " u'bled': <gensim.models.keyedvectors.Vocab at 0x7fb2c38fa890>,\n",
       " u'flaxen': <gensim.models.keyedvectors.Vocab at 0x7fb2c38fa8d0>,\n",
       " u'fisherfolk': <gensim.models.keyedvectors.Vocab at 0x7fb2c37cac10>,\n",
       " u'result': <gensim.models.keyedvectors.Vocab at 0x7fb2c38fa990>,\n",
       " u'Alayaya': <gensim.models.keyedvectors.Vocab at 0x7fb2c38fa9d0>,\n",
       " u'fail': <gensim.models.keyedvectors.Vocab at 0x7fb2c38faa10>,\n",
       " u'resigned': <gensim.models.keyedvectors.Vocab at 0x7fb2c38faa50>,\n",
       " u'skulls': <gensim.models.keyedvectors.Vocab at 0x7fb2c38faa90>,\n",
       " u'Dogs': <gensim.models.keyedvectors.Vocab at 0x7fb2c38faad0>,\n",
       " u'best': <gensim.models.keyedvectors.Vocab at 0x7fb2c38fab10>,\n",
       " u'pricking': <gensim.models.keyedvectors.Vocab at 0x7fb2c38fab50>,\n",
       " u'Dwarf': <gensim.models.keyedvectors.Vocab at 0x7fb2c38fabd0>,\n",
       " u'ambitions': <gensim.models.keyedvectors.Vocab at 0x7fb2c38fac10>,\n",
       " u'lots': <gensim.models.keyedvectors.Vocab at 0x7fb2c38fac50>,\n",
       " u'Rise': <gensim.models.keyedvectors.Vocab at 0x7fb2c38fac90>,\n",
       " u'rings': <gensim.models.keyedvectors.Vocab at 0x7fb2c38facd0>,\n",
       " u'Porther': <gensim.models.keyedvectors.Vocab at 0x7fb2c38fad10>,\n",
       " u'Longsister': <gensim.models.keyedvectors.Vocab at 0x7fb2c2de9f10>,\n",
       " u'score': <gensim.models.keyedvectors.Vocab at 0x7fb2c38fad50>,\n",
       " u'scorn': <gensim.models.keyedvectors.Vocab at 0x7fb2c38fad90>,\n",
       " u'ire': <gensim.models.keyedvectors.Vocab at 0x7fb2c38fae90>,\n",
       " u'preserve': <gensim.models.keyedvectors.Vocab at 0x7fb2c38faf50>,\n",
       " u'claws': <gensim.models.keyedvectors.Vocab at 0x7fb2c38faf90>,\n",
       " u'Thunderfist': <gensim.models.keyedvectors.Vocab at 0x7fb2c38fafd0>,\n",
       " u'khaleesi': <gensim.models.keyedvectors.Vocab at 0x7fb2c3904050>,\n",
       " u'extend': <gensim.models.keyedvectors.Vocab at 0x7fb2c3904090>,\n",
       " u'nature': <gensim.models.keyedvectors.Vocab at 0x7fb2c39040d0>,\n",
       " u'rolled': <gensim.models.keyedvectors.Vocab at 0x7fb2c3904110>,\n",
       " u'smelled': <gensim.models.keyedvectors.Vocab at 0x7fb2c3904150>,\n",
       " u'lapping': <gensim.models.keyedvectors.Vocab at 0x7fb2c39041d0>,\n",
       " u'Bronn': <gensim.models.keyedvectors.Vocab at 0x7fb2c3904210>,\n",
       " u'twinkling': <gensim.models.keyedvectors.Vocab at 0x7fb2c3904250>,\n",
       " u'here': <gensim.models.keyedvectors.Vocab at 0x7fb2c3739450>,\n",
       " u'DURAM': <gensim.models.keyedvectors.Vocab at 0x7fb2c39042d0>,\n",
       " u'wheelbarrow': <gensim.models.keyedvectors.Vocab at 0x7fb2c3904310>,\n",
       " u'fissured': <gensim.models.keyedvectors.Vocab at 0x7fb2c758c590>,\n",
       " u'bladders': <gensim.models.keyedvectors.Vocab at 0x7fb2c3498b90>,\n",
       " u'pity': <gensim.models.keyedvectors.Vocab at 0x7fb2c39043d0>,\n",
       " u'accident': <gensim.models.keyedvectors.Vocab at 0x7fb2c3904410>,\n",
       " u'trickster': <gensim.models.keyedvectors.Vocab at 0x7fb2c3904450>,\n",
       " u'weirwood': <gensim.models.keyedvectors.Vocab at 0x7fb2c3904490>,\n",
       " u'disdain': <gensim.models.keyedvectors.Vocab at 0x7fb2c39044d0>,\n",
       " u'country': <gensim.models.keyedvectors.Vocab at 0x7fb2c3904550>,\n",
       " u'pits': <gensim.models.keyedvectors.Vocab at 0x7fb2c3904590>,\n",
       " u'cup': <gensim.models.keyedvectors.Vocab at 0x7fb2c2e25290>,\n",
       " u'adventures': <gensim.models.keyedvectors.Vocab at 0x7fb2c39045d0>,\n",
       " u'askew': <gensim.models.keyedvectors.Vocab at 0x7fb2c35dd590>,\n",
       " u'estates': <gensim.models.keyedvectors.Vocab at 0x7fb2c3904650>,\n",
       " u'planned': <gensim.models.keyedvectors.Vocab at 0x7fb2c3904690>,\n",
       " u'dents': <gensim.models.keyedvectors.Vocab at 0x7fb2c39046d0>,\n",
       " u'argue': <gensim.models.keyedvectors.Vocab at 0x7fb2c3904750>,\n",
       " u'betrayed': <gensim.models.keyedvectors.Vocab at 0x7fb2c2b0a790>,\n",
       " u'asked': <gensim.models.keyedvectors.Vocab at 0x7fb2c3657110>,\n",
       " u'fearlessly': <gensim.models.keyedvectors.Vocab at 0x7fb2c3904810>,\n",
       " u'Closer': <gensim.models.keyedvectors.Vocab at 0x7fb2c3904850>,\n",
       " u'mortified': <gensim.models.keyedvectors.Vocab at 0x7fb2c3904890>,\n",
       " u'vain': <gensim.models.keyedvectors.Vocab at 0x7fb2c3904910>,\n",
       " u'fondled': <gensim.models.keyedvectors.Vocab at 0x7fb2c39049d0>,\n",
       " u'unprotected': <gensim.models.keyedvectors.Vocab at 0x7fb2c3904a10>,\n",
       " u'gleaming': <gensim.models.keyedvectors.Vocab at 0x7fb2c3904a50>,\n",
       " u'vair': <gensim.models.keyedvectors.Vocab at 0x7fb2c3904ad0>,\n",
       " u'Sorry': <gensim.models.keyedvectors.Vocab at 0x7fb2c7597450>,\n",
       " u'jeered': <gensim.models.keyedvectors.Vocab at 0x7fb2c2e253d0>,\n",
       " u'grazing': <gensim.models.keyedvectors.Vocab at 0x7fb2c3904bd0>,\n",
       " u'Mezzara': <gensim.models.keyedvectors.Vocab at 0x7fb2c3904c10>,\n",
       " u'Clarence': <gensim.models.keyedvectors.Vocab at 0x7fb2c3904c50>,\n",
       " u'Sitting': <gensim.models.keyedvectors.Vocab at 0x7fb2c3904c90>,\n",
       " u'union': <gensim.models.keyedvectors.Vocab at 0x7fb2c3904cd0>,\n",
       " u'trapdoor': <gensim.models.keyedvectors.Vocab at 0x7fb2c3904d10>,\n",
       " u'grotto': <gensim.models.keyedvectors.Vocab at 0x7fb2c351c9d0>,\n",
       " u'Amongst': <gensim.models.keyedvectors.Vocab at 0x7fb2c3904d90>,\n",
       " u'muck': <gensim.models.keyedvectors.Vocab at 0x7fb2c3904e10>,\n",
       " u'much': <gensim.models.keyedvectors.Vocab at 0x7fb2c3904e50>,\n",
       " u'chucked': <gensim.models.keyedvectors.Vocab at 0x7fb2c3904e90>,\n",
       " u'privilege': <gensim.models.keyedvectors.Vocab at 0x7fb2c3904ed0>,\n",
       " u'fry': <gensim.models.keyedvectors.Vocab at 0x7fb2c3904f10>,\n",
       " u'Flowers': <gensim.models.keyedvectors.Vocab at 0x7fb2c3904f50>,\n",
       " u'tallest': <gensim.models.keyedvectors.Vocab at 0x7fb2c3904f90>,\n",
       " u'derives': <gensim.models.keyedvectors.Vocab at 0x7fb2c2d5a250>,\n",
       " u'cub': <gensim.models.keyedvectors.Vocab at 0x7fb2c2e25490>,\n",
       " u'Wendish': <gensim.models.keyedvectors.Vocab at 0x7fb2c388f090>,\n",
       " u'life': <gensim.models.keyedvectors.Vocab at 0x7fb2c388f0d0>,\n",
       " u'spit': <gensim.models.keyedvectors.Vocab at 0x7fb2c388f150>,\n",
       " u'Mothers': <gensim.models.keyedvectors.Vocab at 0x7fb2c388f190>,\n",
       " u'onyx': <gensim.models.keyedvectors.Vocab at 0x7fb2c388f1d0>,\n",
       " u'smoothed': <gensim.models.keyedvectors.Vocab at 0x7fb2c2b68750>,\n",
       " u'wish': <gensim.models.keyedvectors.Vocab at 0x7fb2c2d7af50>,\n",
       " u'athwart': <gensim.models.keyedvectors.Vocab at 0x7fb2c388f210>,\n",
       " u'dragonspawn': <gensim.models.keyedvectors.Vocab at 0x7fb2c388f250>,\n",
       " u'joust': <gensim.models.keyedvectors.Vocab at 0x7fb2c388f290>,\n",
       " u'lift': <gensim.models.keyedvectors.Vocab at 0x7fb2c388f2d0>,\n",
       " u'Rollam': <gensim.models.keyedvectors.Vocab at 0x7fb2c388f310>,\n",
       " u'Wulfe': <gensim.models.keyedvectors.Vocab at 0x7fb2c388f350>,\n",
       " u'child': <gensim.models.keyedvectors.Vocab at 0x7fb2c3684a50>,\n",
       " u'undergaolers': <gensim.models.keyedvectors.Vocab at 0x7fb2c388f3d0>,\n",
       " u'worked': <gensim.models.keyedvectors.Vocab at 0x7fb2c388f410>,\n",
       " u'spin': <gensim.models.keyedvectors.Vocab at 0x7fb2c388f450>,\n",
       " u'Biter': <gensim.models.keyedvectors.Vocab at 0x7fb2c3684f10>,\n",
       " u'cunt': <gensim.models.keyedvectors.Vocab at 0x7fb2c388f4d0>,\n",
       " u'chill': <gensim.models.keyedvectors.Vocab at 0x7fb2c388f510>,\n",
       " u'Longbow': <gensim.models.keyedvectors.Vocab at 0x7fb2c360f250>,\n",
       " u'impoverished': <gensim.models.keyedvectors.Vocab at 0x7fb2c2e255d0>,\n",
       " u'contemplated': <gensim.models.keyedvectors.Vocab at 0x7fb2c388f610>,\n",
       " u'Maid': <gensim.models.keyedvectors.Vocab at 0x7fb2c351cad0>,\n",
       " u'opals': <gensim.models.keyedvectors.Vocab at 0x7fb2c2e25610>,\n",
       " u'Beware': <gensim.models.keyedvectors.Vocab at 0x7fb2c388f6d0>,\n",
       " u'buckled': <gensim.models.keyedvectors.Vocab at 0x7fb2c3015bd0>,\n",
       " u'blackberries': <gensim.models.keyedvectors.Vocab at 0x7fb2c2a900d0>,\n",
       " u'Farwynds': <gensim.models.keyedvectors.Vocab at 0x7fb2c388f750>,\n",
       " u'fornications': <gensim.models.keyedvectors.Vocab at 0x7fb2c30f9d50>,\n",
       " u'Lemore': <gensim.models.keyedvectors.Vocab at 0x7fb2c388f7d0>,\n",
       " u'groats': <gensim.models.keyedvectors.Vocab at 0x7fb2c2f91bd0>,\n",
       " u'flooding': <gensim.models.keyedvectors.Vocab at 0x7fb2c388f850>,\n",
       " u'k': <gensim.models.keyedvectors.Vocab at 0x7fb2c388f890>,\n",
       " u'skirts': <gensim.models.keyedvectors.Vocab at 0x7fb2c388f8d0>,\n",
       " u'remembering': <gensim.models.keyedvectors.Vocab at 0x7fb2c361aad0>,\n",
       " u'TOBHO': <gensim.models.keyedvectors.Vocab at 0x7fb2c388f950>,\n",
       " u'On': <gensim.models.keyedvectors.Vocab at 0x7fb2c388f990>,\n",
       " u'hunkered': <gensim.models.keyedvectors.Vocab at 0x7fb2c388f9d0>,\n",
       " u'HARRAS': <gensim.models.keyedvectors.Vocab at 0x7fb2c388fa10>,\n",
       " u'swordpoint': <gensim.models.keyedvectors.Vocab at 0x7fb2c388fa50>,\n",
       " u'DICKON': <gensim.models.keyedvectors.Vocab at 0x7fb2c388fa90>,\n",
       " u'piercing': <gensim.models.keyedvectors.Vocab at 0x7fb2c3015c90>,\n",
       " u'player': <gensim.models.keyedvectors.Vocab at 0x7fb2c36256d0>,\n",
       " u'Downriver': <gensim.models.keyedvectors.Vocab at 0x7fb2c3625810>,\n",
       " u'SPEAKER': <gensim.models.keyedvectors.Vocab at 0x7fb2c388fb50>,\n",
       " u'reports': <gensim.models.keyedvectors.Vocab at 0x7fb2c388fb90>,\n",
       " u'Sword': <gensim.models.keyedvectors.Vocab at 0x7fb2c388fbd0>,\n",
       " u'Duckfield': <gensim.models.keyedvectors.Vocab at 0x7fb2c388fc10>,\n",
       " u'ignoring': <gensim.models.keyedvectors.Vocab at 0x7fb2c3015d10>,\n",
       " u'DAYNE': <gensim.models.keyedvectors.Vocab at 0x7fb2c3625e50>,\n",
       " u'specter': <gensim.models.keyedvectors.Vocab at 0x7fb2c388fc90>,\n",
       " u'trusted': <gensim.models.keyedvectors.Vocab at 0x7fb2c388fcd0>,\n",
       " u'Faster': <gensim.models.keyedvectors.Vocab at 0x7fb2c388fd10>,\n",
       " u'hone': <gensim.models.keyedvectors.Vocab at 0x7fb2c388fd50>,\n",
       " u'buckles': <gensim.models.keyedvectors.Vocab at 0x7fb2c3015d50>,\n",
       " u'vintages': <gensim.models.keyedvectors.Vocab at 0x7fb2c3015d90>,\n",
       " u'things': <gensim.models.keyedvectors.Vocab at 0x7fb2c388fe50>,\n",
       " u'Oh': <gensim.models.keyedvectors.Vocab at 0x7fb2c388fe90>,\n",
       " u'rebellion': <gensim.models.keyedvectors.Vocab at 0x7fb2c388fed0>,\n",
       " u'swarthy': <gensim.models.keyedvectors.Vocab at 0x7fb2c388ff10>,\n",
       " u'clucking': <gensim.models.keyedvectors.Vocab at 0x7fb2c388ff50>,\n",
       " u'harmony': <gensim.models.keyedvectors.Vocab at 0x7fb2c363c1d0>,\n",
       " u'babies': <gensim.models.keyedvectors.Vocab at 0x7fb2c388ffd0>,\n",
       " u'big': <gensim.models.keyedvectors.Vocab at 0x7fb2c2e25810>,\n",
       " u'whitecaps': <gensim.models.keyedvectors.Vocab at 0x7fb2c389b090>,\n",
       " u'HUNTSMAN': <gensim.models.keyedvectors.Vocab at 0x7fb2c389b0d0>,\n",
       " u'Ebben': <gensim.models.keyedvectors.Vocab at 0x7fb2c3015e10>,\n",
       " u'exertion': <gensim.models.keyedvectors.Vocab at 0x7fb2c389b110>,\n",
       " u'supped': <gensim.models.keyedvectors.Vocab at 0x7fb2c363cdd0>,\n",
       " u'WESTERLING': <gensim.models.keyedvectors.Vocab at 0x7fb2c389b190>,\n",
       " u'boiled': <gensim.models.keyedvectors.Vocab at 0x7fb2c389b1d0>,\n",
       " u'effortlessly': <gensim.models.keyedvectors.Vocab at 0x7fb2c389b210>,\n",
       " u'transfixed': <gensim.models.keyedvectors.Vocab at 0x7fb2c389b250>,\n",
       " u'marches': <gensim.models.keyedvectors.Vocab at 0x7fb2c389b290>,\n",
       " u'marcher': <gensim.models.keyedvectors.Vocab at 0x7fb2c389b2d0>,\n",
       " u'Maybe': <gensim.models.keyedvectors.Vocab at 0x7fb2c389b310>,\n",
       " u'firepit': <gensim.models.keyedvectors.Vocab at 0x7fb2c3648690>,\n",
       " u'consents': <gensim.models.keyedvectors.Vocab at 0x7fb2c389b390>,\n",
       " u'kittens': <gensim.models.keyedvectors.Vocab at 0x7fb2c2c04890>,\n",
       " u'fishy': <gensim.models.keyedvectors.Vocab at 0x7fb2c2f24a90>,\n",
       " u'Apples': <gensim.models.keyedvectors.Vocab at 0x7fb2c389b3d0>,\n",
       " u'supper': <gensim.models.keyedvectors.Vocab at 0x7fb2c389b410>,\n",
       " u'hardwood': <gensim.models.keyedvectors.Vocab at 0x7fb2c2c1f8d0>,\n",
       " u'seamed': <gensim.models.keyedvectors.Vocab at 0x7fb2c389b450>,\n",
       " u'haggard': <gensim.models.keyedvectors.Vocab at 0x7fb2c389b4d0>,\n",
       " u'tune': <gensim.models.keyedvectors.Vocab at 0x7fb2c2f6b1d0>,\n",
       " u'Move': <gensim.models.keyedvectors.Vocab at 0x7fb2c2abe550>,\n",
       " u'SHAGGYDOG': <gensim.models.keyedvectors.Vocab at 0x7fb2c389b550>,\n",
       " u'Martyn': <gensim.models.keyedvectors.Vocab at 0x7fb2c389b590>,\n",
       " u'Onions': <gensim.models.keyedvectors.Vocab at 0x7fb2c3015ed0>,\n",
       " u'Milord': <gensim.models.keyedvectors.Vocab at 0x7fb2c389b650>,\n",
       " u'echoed': <gensim.models.keyedvectors.Vocab at 0x7fb2c3052b90>,\n",
       " u'climber': <gensim.models.keyedvectors.Vocab at 0x7fb2c389b6d0>,\n",
       " u'stillness': <gensim.models.keyedvectors.Vocab at 0x7fb2c389b710>,\n",
       " u'coldness': <gensim.models.keyedvectors.Vocab at 0x7fb2c389b750>,\n",
       " u'snowmelt': <gensim.models.keyedvectors.Vocab at 0x7fb2c389b790>,\n",
       " u'Table': <gensim.models.keyedvectors.Vocab at 0x7fb2c389b7d0>,\n",
       " u'FLOWERS': <gensim.models.keyedvectors.Vocab at 0x7fb2c389b810>,\n",
       " u'veteran': <gensim.models.keyedvectors.Vocab at 0x7fb2c351ced0>,\n",
       " u'veils': <gensim.models.keyedvectors.Vocab at 0x7fb2c389b890>,\n",
       " u'ROYCE': <gensim.models.keyedvectors.Vocab at 0x7fb2c389b8d0>,\n",
       " u'outlived': <gensim.models.keyedvectors.Vocab at 0x7fb2c389b910>,\n",
       " u'bellow': <gensim.models.keyedvectors.Vocab at 0x7fb2c389b950>,\n",
       " u'Thank': <gensim.models.keyedvectors.Vocab at 0x7fb2c35e8550>,\n",
       " u'sleeps': <gensim.models.keyedvectors.Vocab at 0x7fb2c389b9d0>,\n",
       " u'THAT': <gensim.models.keyedvectors.Vocab at 0x7fb2c389ba10>,\n",
       " u'Mhysa': <gensim.models.keyedvectors.Vocab at 0x7fb2c389ba90>,\n",
       " u'masons': <gensim.models.keyedvectors.Vocab at 0x7fb2c389bad0>,\n",
       " u'sleepy': <gensim.models.keyedvectors.Vocab at 0x7fb2c389bb10>,\n",
       " u'boatmen': <gensim.models.keyedvectors.Vocab at 0x7fb2c37b4210>,\n",
       " u'beset': <gensim.models.keyedvectors.Vocab at 0x7fb2c389bb90>,\n",
       " u'disguise': <gensim.models.keyedvectors.Vocab at 0x7fb2c389bbd0>,\n",
       " u'garrons': <gensim.models.keyedvectors.Vocab at 0x7fb2c2c669d0>,\n",
       " u'Mutton': <gensim.models.keyedvectors.Vocab at 0x7fb2c389bc10>,\n",
       " u'rushing': <gensim.models.keyedvectors.Vocab at 0x7fb2c389bc90>,\n",
       " u'ILYN': <gensim.models.keyedvectors.Vocab at 0x7fb2c389bcd0>,\n",
       " u'Happy': <gensim.models.keyedvectors.Vocab at 0x7fb2c389bd10>,\n",
       " u'OOOO': <gensim.models.keyedvectors.Vocab at 0x7fb2c2c2aa10>,\n",
       " u'enters': <gensim.models.keyedvectors.Vocab at 0x7fb2c389bdd0>,\n",
       " u'butchering': <gensim.models.keyedvectors.Vocab at 0x7fb2c3776410>,\n",
       " u'han': <gensim.models.keyedvectors.Vocab at 0x7fb2c389be90>,\n",
       " u'ease': <gensim.models.keyedvectors.Vocab at 0x7fb2c389bed0>,\n",
       " u'had': <gensim.models.keyedvectors.Vocab at 0x7fb2c389bf10>,\n",
       " u'Wardens': <gensim.models.keyedvectors.Vocab at 0x7fb2c389bf50>,\n",
       " u'gasping': <gensim.models.keyedvectors.Vocab at 0x7fb2c2dabed0>,\n",
       " u'hag': <gensim.models.keyedvectors.Vocab at 0x7fb2c389bf90>,\n",
       " u'Xaro': <gensim.models.keyedvectors.Vocab at 0x7fb2c389bfd0>,\n",
       " u'ewer': <gensim.models.keyedvectors.Vocab at 0x7fb2c38a7050>,\n",
       " u'obedient': <gensim.models.keyedvectors.Vocab at 0x7fb2c37be750>,\n",
       " u'easy': <gensim.models.keyedvectors.Vocab at 0x7fb2c38a7d50>,\n",
       " u'prison': <gensim.models.keyedvectors.Vocab at 0x7fb2c38a7110>,\n",
       " u'east': <gensim.models.keyedvectors.Vocab at 0x7fb2c3880510>,\n",
       " u'espoused': <gensim.models.keyedvectors.Vocab at 0x7fb2c358b090>,\n",
       " u'Apart': <gensim.models.keyedvectors.Vocab at 0x7fb2c38a71d0>,\n",
       " u'Foes': <gensim.models.keyedvectors.Vocab at 0x7fb2c38a7250>,\n",
       " u'Refuse': <gensim.models.keyedvectors.Vocab at 0x7fb2c38a7290>,\n",
       " u'abashed': <gensim.models.keyedvectors.Vocab at 0x7fb2c38a72d0>,\n",
       " u'cocked': <gensim.models.keyedvectors.Vocab at 0x7fb2c2a75d90>,\n",
       " u'casually': <gensim.models.keyedvectors.Vocab at 0x7fb2c38a7310>,\n",
       " u'elders': <gensim.models.keyedvectors.Vocab at 0x7fb2c38a7390>,\n",
       " u'confection': <gensim.models.keyedvectors.Vocab at 0x7fb2c38a73d0>,\n",
       " u'posed': <gensim.models.keyedvectors.Vocab at 0x7fb2c38a7450>,\n",
       " u'possible': <gensim.models.keyedvectors.Vocab at 0x7fb2c38a7490>,\n",
       " u'awhile': <gensim.models.keyedvectors.Vocab at 0x7fb2c2fbe3d0>,\n",
       " u'Three': <gensim.models.keyedvectors.Vocab at 0x7fb2c38a74d0>,\n",
       " u'Aunt': <gensim.models.keyedvectors.Vocab at 0x7fb2c2e19c50>,\n",
       " u'possibly': <gensim.models.keyedvectors.Vocab at 0x7fb2c38a7510>,\n",
       " u'ushered': <gensim.models.keyedvectors.Vocab at 0x7fb2c2b0a510>,\n",
       " u'barnacles': <gensim.models.keyedvectors.Vocab at 0x7fb2c38a7550>,\n",
       " u'birth': <gensim.models.keyedvectors.Vocab at 0x7fb2c38a7590>,\n",
       " u'clustered': <gensim.models.keyedvectors.Vocab at 0x7fb2c38a75d0>,\n",
       " u'shadow': <gensim.models.keyedvectors.Vocab at 0x7fb2c38a7610>,\n",
       " u'unique': <gensim.models.keyedvectors.Vocab at 0x7fb2c38a7650>,\n",
       " u'Gerrold': <gensim.models.keyedvectors.Vocab at 0x7fb2c38a7690>,\n",
       " u'bushy': <gensim.models.keyedvectors.Vocab at 0x7fb2c38a76d0>,\n",
       " u'desire': <gensim.models.keyedvectors.Vocab at 0x7fb2c38a7750>,\n",
       " u'Lords': <gensim.models.keyedvectors.Vocab at 0x7fb2c38a7790>,\n",
       " u'seek': <gensim.models.keyedvectors.Vocab at 0x7fb2c2efdc50>,\n",
       " u'Ottyn': <gensim.models.keyedvectors.Vocab at 0x7fb2c38a7890>,\n",
       " u'longbowmen': <gensim.models.keyedvectors.Vocab at 0x7fb2c38a78d0>,\n",
       " u'undertunic': <gensim.models.keyedvectors.Vocab at 0x7fb2c38a7910>,\n",
       " u'gangplank': <gensim.models.keyedvectors.Vocab at 0x7fb2c38a7950>,\n",
       " u'Jyanna': <gensim.models.keyedvectors.Vocab at 0x7fb2c38a7990>,\n",
       " u'squandered': <gensim.models.keyedvectors.Vocab at 0x7fb2c38a79d0>,\n",
       " u'misled': <gensim.models.keyedvectors.Vocab at 0x7fb2c38a7a10>,\n",
       " u'steps': <gensim.models.keyedvectors.Vocab at 0x7fb2c38a7a50>,\n",
       " u'grotesquely': <gensim.models.keyedvectors.Vocab at 0x7fb2c38a7a90>,\n",
       " u'Corpsekiller': <gensim.models.keyedvectors.Vocab at 0x7fb2c38a7ad0>,\n",
       " u'MYRIELLE': <gensim.models.keyedvectors.Vocab at 0x7fb2c38a7b50>,\n",
       " u'battlefield': <gensim.models.keyedvectors.Vocab at 0x7fb2c38a7b90>,\n",
       " u'right': <gensim.models.keyedvectors.Vocab at 0x7fb2c38a7bd0>,\n",
       " u'old': <gensim.models.keyedvectors.Vocab at 0x7fb2c38a7c10>,\n",
       " u'Greenaway': <gensim.models.keyedvectors.Vocab at 0x7fb2c2ee6510>,\n",
       " u'crowd': <gensim.models.keyedvectors.Vocab at 0x7fb2c38a7c90>,\n",
       " u'people': <gensim.models.keyedvectors.Vocab at 0x7fb2c38a7cd0>,\n",
       " u'Lantern': <gensim.models.keyedvectors.Vocab at 0x7fb2c2c3f1d0>,\n",
       " u'crown': <gensim.models.keyedvectors.Vocab at 0x7fb2c38a7d90>,\n",
       " u'BELWAS': <gensim.models.keyedvectors.Vocab at 0x7fb2c38a7dd0>,\n",
       " u'lockstep': <gensim.models.keyedvectors.Vocab at 0x7fb2c38a7e10>,\n",
       " u'crows': <gensim.models.keyedvectors.Vocab at 0x7fb2c38a7e50>,\n",
       " u'baseborn': <gensim.models.keyedvectors.Vocab at 0x7fb2c38a7e90>,\n",
       " u'glove': <gensim.models.keyedvectors.Vocab at 0x7fb2c2e25dd0>,\n",
       " u'Between': <gensim.models.keyedvectors.Vocab at 0x7fb2c38a7f10>,\n",
       " u'Off': <gensim.models.keyedvectors.Vocab at 0x7fb2c3527150>,\n",
       " u'Smell': <gensim.models.keyedvectors.Vocab at 0x7fb2c38a7f90>,\n",
       " u'counts': <gensim.models.keyedvectors.Vocab at 0x7fb2c3021350>,\n",
       " u'creep': <gensim.models.keyedvectors.Vocab at 0x7fb2c38b2050>,\n",
       " u'enemies': <gensim.models.keyedvectors.Vocab at 0x7fb2c38b2090>,\n",
       " u'gasps': <gensim.models.keyedvectors.Vocab at 0x7fb2c38b20d0>,\n",
       " u'perchance': <gensim.models.keyedvectors.Vocab at 0x7fb2c38b2110>,\n",
       " u'ruffled': <gensim.models.keyedvectors.Vocab at 0x7fb2c38b2150>,\n",
       " u'for': <gensim.models.keyedvectors.Vocab at 0x7fb2c38b2190>,\n",
       " u'bottom': <gensim.models.keyedvectors.Vocab at 0x7fb2c38b21d0>,\n",
       " u'hulks': <gensim.models.keyedvectors.Vocab at 0x7fb2c38b2210>,\n",
       " u'Queenscrown': <gensim.models.keyedvectors.Vocab at 0x7fb2c38b2250>,\n",
       " u'inhuman': <gensim.models.keyedvectors.Vocab at 0x7fb2c38b2290>,\n",
       " u'fox': <gensim.models.keyedvectors.Vocab at 0x7fb2c38b22d0>,\n",
       " u'killing': <gensim.models.keyedvectors.Vocab at 0x7fb2c2f39850>,\n",
       " u'plucked': <gensim.models.keyedvectors.Vocab at 0x7fb2c38b2310>,\n",
       " u'witty': <gensim.models.keyedvectors.Vocab at 0x7fb2c38b2350>,\n",
       " u'foe': <gensim.models.keyedvectors.Vocab at 0x7fb2c38b2390>,\n",
       " u'flopping': <gensim.models.keyedvectors.Vocab at 0x7fb2c38b23d0>,\n",
       " u'summoned': <gensim.models.keyedvectors.Vocab at 0x7fb2c38b2450>,\n",
       " u'pondered': <gensim.models.keyedvectors.Vocab at 0x7fb2c38b2490>,\n",
       " u'serpents': <gensim.models.keyedvectors.Vocab at 0x7fb2c38b24d0>,\n",
       " u'Royce': <gensim.models.keyedvectors.Vocab at 0x7fb2c38b2550>,\n",
       " u'pinched': <gensim.models.keyedvectors.Vocab at 0x7fb2c38b2590>,\n",
       " u'BARRISTAN': <gensim.models.keyedvectors.Vocab at 0x7fb2c38b25d0>,\n",
       " u'shakes': <gensim.models.keyedvectors.Vocab at 0x7fb2c38b2610>,\n",
       " u'warlock': <gensim.models.keyedvectors.Vocab at 0x7fb2c2e3c810>,\n",
       " u'Watty': <gensim.models.keyedvectors.Vocab at 0x7fb2c38b2650>,\n",
       " u'Gerris': <gensim.models.keyedvectors.Vocab at 0x7fb2c38b2690>,\n",
       " u'Strongboar': <gensim.models.keyedvectors.Vocab at 0x7fb2c38b26d0>,\n",
       " u'terraces': <gensim.models.keyedvectors.Vocab at 0x7fb2c38b2710>,\n",
       " u'COTTER': <gensim.models.keyedvectors.Vocab at 0x7fb2c38b2750>,\n",
       " u'binder': <gensim.models.keyedvectors.Vocab at 0x7fb2c38b2790>,\n",
       " u'shifting': <gensim.models.keyedvectors.Vocab at 0x7fb2c38b27d0>,\n",
       " u'defensive': <gensim.models.keyedvectors.Vocab at 0x7fb2c38b2810>,\n",
       " u'pinches': <gensim.models.keyedvectors.Vocab at 0x7fb2c38b2850>,\n",
       " u'losing': <gensim.models.keyedvectors.Vocab at 0x7fb2c38b2890>,\n",
       " u'terraced': <gensim.models.keyedvectors.Vocab at 0x7fb2c38b28d0>,\n",
       " u'Think': <gensim.models.keyedvectors.Vocab at 0x7fb2c38b2910>,\n",
       " u'stableboys': <gensim.models.keyedvectors.Vocab at 0x7fb2c38b2950>,\n",
       " u'balking': <gensim.models.keyedvectors.Vocab at 0x7fb2c38b2990>,\n",
       " u'restlessness': <gensim.models.keyedvectors.Vocab at 0x7fb2c38b29d0>,\n",
       " u'benches': <gensim.models.keyedvectors.Vocab at 0x7fb2c38b2a10>,\n",
       " u'lions': <gensim.models.keyedvectors.Vocab at 0x7fb2c2ef2990>,\n",
       " u'grievously': <gensim.models.keyedvectors.Vocab at 0x7fb2c38b2a90>,\n",
       " u'o': <gensim.models.keyedvectors.Vocab at 0x7fb2c38b2b10>,\n",
       " u'despair': <gensim.models.keyedvectors.Vocab at 0x7fb2c38b2b50>,\n",
       " u'lacked': <gensim.models.keyedvectors.Vocab at 0x7fb2c38b2b90>,\n",
       " u'Erenford': <gensim.models.keyedvectors.Vocab at 0x7fb2c38b2bd0>,\n",
       " u'slightly': <gensim.models.keyedvectors.Vocab at 0x7fb2c38b2c10>,\n",
       " u'Targaryen': <gensim.models.keyedvectors.Vocab at 0x7fb2c38b2c50>,\n",
       " u'flatbread': <gensim.models.keyedvectors.Vocab at 0x7fb2c38b2cd0>,\n",
       " u'hulking': <gensim.models.keyedvectors.Vocab at 0x7fb2c38b2d10>,\n",
       " u'Use': <gensim.models.keyedvectors.Vocab at 0x7fb2c38b2d50>,\n",
       " u'Strength': <gensim.models.keyedvectors.Vocab at 0x7fb2c38b2d90>,\n",
       " u'Knowledge': <gensim.models.keyedvectors.Vocab at 0x7fb2c38b2dd0>,\n",
       " u'MARISSA': <gensim.models.keyedvectors.Vocab at 0x7fb2c38b2e10>,\n",
       " u'scythes': <gensim.models.keyedvectors.Vocab at 0x7fb2c38b2e50>,\n",
       " u'nought': <gensim.models.keyedvectors.Vocab at 0x7fb2c38b2e90>,\n",
       " u'disentangled': <gensim.models.keyedvectors.Vocab at 0x7fb2c38b2ed0>,\n",
       " u'brutes': <gensim.models.keyedvectors.Vocab at 0x7fb2c38b2f10>,\n",
       " u'son': <gensim.models.keyedvectors.Vocab at 0x7fb2c38b2f90>,\n",
       " u'sop': <gensim.models.keyedvectors.Vocab at 0x7fb2c38b2fd0>,\n",
       " u'raises': <gensim.models.keyedvectors.Vocab at 0x7fb2c38bc050>,\n",
       " u'sow': <gensim.models.keyedvectors.Vocab at 0x7fb2c38bc090>,\n",
       " u'wrap': <gensim.models.keyedvectors.Vocab at 0x7fb2c38bc0d0>,\n",
       " u'runty': <gensim.models.keyedvectors.Vocab at 0x7fb2c38bc110>,\n",
       " u'despised': <gensim.models.keyedvectors.Vocab at 0x7fb2c38bc190>,\n",
       " u'Wicked': <gensim.models.keyedvectors.Vocab at 0x7fb2c2efd950>,\n",
       " u'fabric': <gensim.models.keyedvectors.Vocab at 0x7fb2c38bc1d0>,\n",
       " u'waits': <gensim.models.keyedvectors.Vocab at 0x7fb2c38bc210>,\n",
       " u'Arthur': <gensim.models.keyedvectors.Vocab at 0x7fb2c2d00e90>,\n",
       " u'suffice': <gensim.models.keyedvectors.Vocab at 0x7fb2c38bc250>,\n",
       " u'constantly': <gensim.models.keyedvectors.Vocab at 0x7fb2c38bc290>,\n",
       " u'Hang': <gensim.models.keyedvectors.Vocab at 0x7fb2c38bc2d0>,\n",
       " u'tame': <gensim.models.keyedvectors.Vocab at 0x7fb2c38bc350>,\n",
       " u'avail': <gensim.models.keyedvectors.Vocab at 0x7fb2c38bc390>,\n",
       " u'width': <gensim.models.keyedvectors.Vocab at 0x7fb2c38bc3d0>,\n",
       " u'Blackfish': <gensim.models.keyedvectors.Vocab at 0x7fb2c38bc410>,\n",
       " u'grasping': <gensim.models.keyedvectors.Vocab at 0x7fb2c38bc450>,\n",
       " u'obliged': <gensim.models.keyedvectors.Vocab at 0x7fb2c38bc490>,\n",
       " u'rapes': <gensim.models.keyedvectors.Vocab at 0x7fb2c38bc4d0>,\n",
       " u'raper': <gensim.models.keyedvectors.Vocab at 0x7fb2c38bc510>,\n",
       " u'overhand': <gensim.models.keyedvectors.Vocab at 0x7fb2c38bc550>,\n",
       " u'overhang': <gensim.models.keyedvectors.Vocab at 0x7fb2c38bc590>,\n",
       " u'grooms': <gensim.models.keyedvectors.Vocab at 0x7fb2c38bc5d0>,\n",
       " u'EDMURE': <gensim.models.keyedvectors.Vocab at 0x7fb2c3527490>,\n",
       " u'perfumes': <gensim.models.keyedvectors.Vocab at 0x7fb2c38bc650>,\n",
       " u'spurting': <gensim.models.keyedvectors.Vocab at 0x7fb2c38bc690>,\n",
       " u'offer': <gensim.models.keyedvectors.Vocab at 0x7fb2c38bc6d0>,\n",
       " u'fascination': <gensim.models.keyedvectors.Vocab at 0x7fb2c38bc710>,\n",
       " u'forming': <gensim.models.keyedvectors.Vocab at 0x7fb2c38bc750>,\n",
       " u'tigers': <gensim.models.keyedvectors.Vocab at 0x7fb2c38bc790>,\n",
       " u'shoot': <gensim.models.keyedvectors.Vocab at 0x7fb2c2d32550>,\n",
       " u'canopied': <gensim.models.keyedvectors.Vocab at 0x7fb2c38bc7d0>,\n",
       " u'shrilly': <gensim.models.keyedvectors.Vocab at 0x7fb2c38bc810>,\n",
       " u'Eel': <gensim.models.keyedvectors.Vocab at 0x7fb2c38bc850>,\n",
       " u'talents': <gensim.models.keyedvectors.Vocab at 0x7fb2c38bc890>,\n",
       " u'perfumed': <gensim.models.keyedvectors.Vocab at 0x7fb2c38bc8d0>,\n",
       " u'Cellador': <gensim.models.keyedvectors.Vocab at 0x7fb2c38bc950>,\n",
       " u'gaming': <gensim.models.keyedvectors.Vocab at 0x7fb2c2ae3a90>,\n",
       " u'caromed': <gensim.models.keyedvectors.Vocab at 0x7fb2c38bc990>,\n",
       " u'Seeing': <gensim.models.keyedvectors.Vocab at 0x7fb2c38bc9d0>,\n",
       " u'duel': <gensim.models.keyedvectors.Vocab at 0x7fb2c38bca10>,\n",
       " u'suspect': <gensim.models.keyedvectors.Vocab at 0x7fb2c2f554d0>,\n",
       " u'rippling': <gensim.models.keyedvectors.Vocab at 0x7fb2c38bca50>,\n",
       " u'spun': <gensim.models.keyedvectors.Vocab at 0x7fb2c2abe090>,\n",
       " u'Melara': <gensim.models.keyedvectors.Vocab at 0x7fb2c38bca90>,\n",
       " u'islands': <gensim.models.keyedvectors.Vocab at 0x7fb2c2fa9ed0>,\n",
       " u'devices': <gensim.models.keyedvectors.Vocab at 0x7fb2c38bcad0>,\n",
       " u'WILLIAM': <gensim.models.keyedvectors.Vocab at 0x7fb2c38bcb50>,\n",
       " u'humbler': <gensim.models.keyedvectors.Vocab at 0x7fb2c38bcb90>,\n",
       " u'CRAKEHALL': <gensim.models.keyedvectors.Vocab at 0x7fb2c38bcbd0>,\n",
       " u'WAYN': <gensim.models.keyedvectors.Vocab at 0x7fb2c38bcc10>,\n",
       " u'smashed': <gensim.models.keyedvectors.Vocab at 0x7fb2c38bcc50>,\n",
       " u'Damn': <gensim.models.keyedvectors.Vocab at 0x7fb2c38bcc90>,\n",
       " u'slobbery': <gensim.models.keyedvectors.Vocab at 0x7fb2c38bccd0>,\n",
       " u'SYMOND': <gensim.models.keyedvectors.Vocab at 0x7fb2c38bcd10>,\n",
       " u'yelped': <gensim.models.keyedvectors.Vocab at 0x7fb2c36c0190>,\n",
       " u'disgrace': <gensim.models.keyedvectors.Vocab at 0x7fb2c38bcd90>,\n",
       " u'Sit': <gensim.models.keyedvectors.Vocab at 0x7fb2c38bcdd0>,\n",
       " u'steady': <gensim.models.keyedvectors.Vocab at 0x7fb2c3527610>,\n",
       " u'wetness': <gensim.models.keyedvectors.Vocab at 0x7fb2c38bce50>,\n",
       " u'greener': <gensim.models.keyedvectors.Vocab at 0x7fb2c38bce90>,\n",
       " u'YOUNG': <gensim.models.keyedvectors.Vocab at 0x7fb2c38bced0>,\n",
       " u'proven': <gensim.models.keyedvectors.Vocab at 0x7fb2c38bcf10>,\n",
       " u'crumble': <gensim.models.keyedvectors.Vocab at 0x7fb2c38bcf50>,\n",
       " u'soothe': <gensim.models.keyedvectors.Vocab at 0x7fb2c38bcf90>,\n",
       " ...}"
      ]
     },
     "execution_count": 4,
     "metadata": {},
     "output_type": "execute_result"
    }
   ],
   "source": [
    "thrones2vec.wv.vocab"
   ]
  },
  {
   "cell_type": "markdown",
   "metadata": {},
   "source": [
    "### Compress the word vectors to 2D to visualize them"
   ]
  },
  {
   "cell_type": "code",
   "execution_count": 21,
   "metadata": {
    "collapsed": true
   },
   "outputs": [],
   "source": [
    "tsne = sklearn.manifold.TSNE(n_components=2,random_state=0)  #takes n dimensional vector and squashes it to 2D"
   ]
  },
  {
   "cell_type": "code",
   "execution_count": 22,
   "metadata": {
    "collapsed": false
   },
   "outputs": [],
   "source": [
    "all_word_vectors_matrix = thrones2vec.wv.syn0"
   ]
  },
  {
   "cell_type": "code",
   "execution_count": 23,
   "metadata": {
    "collapsed": false
   },
   "outputs": [
    {
     "data": {
      "text/plain": [
       "(17277, 300)"
      ]
     },
     "execution_count": 23,
     "metadata": {},
     "output_type": "execute_result"
    }
   ],
   "source": [
    "all_word_vectors_matrix.shape"
   ]
  },
  {
   "cell_type": "code",
   "execution_count": 24,
   "metadata": {
    "collapsed": true
   },
   "outputs": [],
   "source": [
    "#17277 words and 300 features"
   ]
  },
  {
   "cell_type": "markdown",
   "metadata": {},
   "source": [
    "#### Train t-SNE to visualise later"
   ]
  },
  {
   "cell_type": "code",
   "execution_count": 25,
   "metadata": {
    "collapsed": true
   },
   "outputs": [],
   "source": [
    "all_word_vectors_matrix_2d = tsne.fit_transform(all_word_vectors_matrix)"
   ]
  },
  {
   "cell_type": "code",
   "execution_count": 55,
   "metadata": {
    "collapsed": false
   },
   "outputs": [],
   "source": [
    "points = pd.DataFrame(columns=['words','x','y'])\n",
    "words = [word for word in thrones2vec.wv.vocab]\n",
    "for i in range(all_word_vectors_matrix_2d.shape[0]):\n",
    "    points = points.append(pd.DataFrame([[words[i],all_word_vectors_matrix[i,0],all_word_vectors_matrix[i,0]]],\n",
    "                                        columns=['words','x','y']),\n",
    "                                        ignore_index=True)"
   ]
  },
  {
   "cell_type": "code",
   "execution_count": 57,
   "metadata": {
    "collapsed": false
   },
   "outputs": [
    {
     "data": {
      "text/plain": [
       "(11048, 3)"
      ]
     },
     "execution_count": 57,
     "metadata": {},
     "output_type": "execute_result"
    }
   ],
   "source": [
    "points.shape"
   ]
  },
  {
   "cell_type": "code",
   "execution_count": 58,
   "metadata": {
    "collapsed": true
   },
   "outputs": [],
   "source": [
    "sns.set_context('poster')"
   ]
  },
  {
   "cell_type": "code",
   "execution_count": 59,
   "metadata": {
    "collapsed": false
   },
   "outputs": [
    {
     "name": "stdout",
     "output_type": "stream",
     "text": [
      "Populating the interactive namespace from numpy and matplotlib\n"
     ]
    },
    {
     "name": "stderr",
     "output_type": "stream",
     "text": [
      "/usr/local/lib/python2.7/dist-packages/IPython/core/magics/pylab.py:161: UserWarning: pylab import has clobbered these variables: ['seed']\n",
      "`%matplotlib` prevents importing * from pylab and numpy\n",
      "  \"\\n`%matplotlib` prevents importing * from pylab and numpy\"\n"
     ]
    }
   ],
   "source": [
    "%pylab inline"
   ]
  },
  {
   "cell_type": "code",
   "execution_count": 61,
   "metadata": {
    "collapsed": false
   },
   "outputs": [
    {
     "data": {
      "text/plain": [
       "<matplotlib.axes.AxesSubplot at 0x7f0e08369c50>"
      ]
     },
     "execution_count": 61,
     "metadata": {},
     "output_type": "execute_result"
    },
    {
     "name": "stderr",
     "output_type": "stream",
     "text": [
      "/usr/lib/pymodules/python2.7/matplotlib/collections.py:548: FutureWarning: elementwise comparison failed; returning scalar instead, but in the future will perform elementwise comparison\n",
      "  if self._edgecolors == 'face':\n"
     ]
    },
    {
     "data": {
      "image/png": "[encoded data removed]",
      "text/plain": [
       "<matplotlib.figure.Figure at 0x7f0e076a6cd0>"
      ]
     },
     "metadata": {},
     "output_type": "display_data"
    }
   ],
   "source": [
    "points.plot.scatter(\"x\",\"y\",s=10,figsize=(20,12))"
   ]
  },
  {
   "cell_type": "code",
   "execution_count": null,
   "metadata": {
    "collapsed": true
   },
   "outputs": [],
   "source": [
    "def plot_region(x_bounds, y_bounds):\n",
    "    slice = points[\n",
    "        (x_bounds[0] <= points.x) &\n",
    "        (points.x <= x_bounds[1]) & \n",
    "        (y_bounds[0] <= points.y) &\n",
    "        (points.y <= y_bounds[1])\n",
    "    ]\n",
    "    \n",
    "    ax = slice.plot.scatter(\"x\", \"y\", s=35, figsize=(10, 8))\n",
    "    for i, point in slice.iterrows():\n",
    "        ax.text(point.x + 0.005, point.y + 0.005, point.words, fontsize=11)"
   ]
  },
  {
   "cell_type": "code",
   "execution_count": 66,
   "metadata": {
    "collapsed": false
   },
   "outputs": [
    {
     "data": {
      "image/png": "[encoded data removed]",
      "text/plain": [
       "<matplotlib.figure.Figure at 0x7f0e08295990>"
      ]
     },
     "metadata": {},
     "output_type": "display_data"
    }
   ],
   "source": [
    "plot_region(x_bounds=(1.5, 2.0), y_bounds=(1.5, 2.0))"
   ]
  },
  {
   "cell_type": "code",
   "execution_count": 38,
   "metadata": {
    "collapsed": false
   },
   "outputs": [
    {
     "data": {
      "text/plain": [
       "[(u'Eddard', 0.7332819104194641),\n",
       " (u'Winterfell', 0.6474947929382324),\n",
       " (u'beheaded', 0.6247559785842896),\n",
       " (u'Lyanna', 0.6226118803024292),\n",
       " (u'Robb', 0.6159043312072754),\n",
       " (u'executed', 0.6154361367225647),\n",
       " (u'direwolf', 0.61335688829422),\n",
       " (u'Rickard', 0.6119989156723022),\n",
       " (u'Brandon', 0.611007571220398),\n",
       " (u'Arryn', 0.6077004671096802)]"
      ]
     },
     "execution_count": 38,
     "metadata": {},
     "output_type": "execute_result"
    }
   ],
   "source": [
    "thrones2vec.most_similar('Stark')"
   ]
  },
  {
   "cell_type": "code",
   "execution_count": 54,
   "metadata": {
    "collapsed": false
   },
   "outputs": [
    {
     "data": {
      "text/plain": [
       "[(u'Jaehaerys', 0.7684574127197266),\n",
       " (u'reign', 0.7470789551734924),\n",
       " (u'Mad', 0.7455924153327942),\n",
       " (u'Daeron', 0.7368917465209961),\n",
       " (u'Unworthy', 0.717677652835846),\n",
       " (u'Beggar', 0.7144438028335571),\n",
       " (u'rebellion', 0.7144118547439575),\n",
       " (u'II', 0.7104942798614502),\n",
       " (u'valor', 0.7054134607315063),\n",
       " (u'Maekar', 0.7007839679718018)]"
      ]
     },
     "execution_count": 54,
     "metadata": {},
     "output_type": "execute_result"
    }
   ],
   "source": [
    "thrones2vec.most_similar('Aerys')"
   ]
  },
  {
   "cell_type": "code",
   "execution_count": 59,
   "metadata": {
    "collapsed": false
   },
   "outputs": [
    {
     "data": {
      "text/plain": [
       "[(u'Snow', 0.7295814752578735),\n",
       " (u'Sam', 0.6166950464248657),\n",
       " (u'Ygritte', 0.5785415172576904),\n",
       " (u'Val', 0.5697051286697388),\n",
       " (u'Styr', 0.5680646896362305),\n",
       " (u'Benjen', 0.5654860138893127),\n",
       " (u'Qhorin', 0.5534363389015198),\n",
       " (u'Magnar', 0.5526526570320129),\n",
       " (u'Chett', 0.5517590045928955),\n",
       " (u'Ned', 0.5454902052879333)]"
      ]
     },
     "execution_count": 59,
     "metadata": {},
     "output_type": "execute_result"
    }
   ],
   "source": [
    "thrones2vec.most_similar('Jon')"
   ]
  },
  {
   "cell_type": "code",
   "execution_count": 66,
   "metadata": {
    "collapsed": false
   },
   "outputs": [
    {
     "data": {
      "text/plain": [
       "[(u'plotted', 0.8233679533004761),\n",
       " (u'Bael', 0.818939208984375),\n",
       " (u'executed', 0.814521312713623),\n",
       " (u'marrying', 0.8113622665405273),\n",
       " (u'blushing', 0.8069310188293457),\n",
       " (u'Wylla', 0.7993110418319702),\n",
       " (u'darling', 0.7929027080535889),\n",
       " (u'weds', 0.7928354144096375),\n",
       " (u'inseparable', 0.7926414012908936),\n",
       " (u'Lump', 0.7900139689445496)]"
      ]
     },
     "execution_count": 66,
     "metadata": {},
     "output_type": "execute_result"
    }
   ],
   "source": [
    "thrones2vec.most_similar('Lyanna')"
   ]
  },
  {
   "cell_type": "code",
   "execution_count": 25,
   "metadata": {
    "collapsed": false
   },
   "outputs": [
    {
     "data": {
      "text/plain": [
       "[(u'Taena', 0.797646164894104),\n",
       " (u'Alayaya', 0.7765731811523438),\n",
       " (u'Cedra', 0.775435209274292),\n",
       " (u'Senelle', 0.7653691172599792),\n",
       " (u'Esgred', 0.7647099494934082),\n",
       " (u'Lemore', 0.7632046341896057),\n",
       " (u'Obara', 0.7588218450546265),\n",
       " (u'blushing', 0.7556425929069519),\n",
       " (u'Marillion', 0.7556105256080627),\n",
       " (u'Pia', 0.7516484260559082)]"
      ]
     },
     "execution_count": 25,
     "metadata": {},
     "output_type": "execute_result"
    }
   ],
   "source": [
    "thrones2vec.most_similar('Shae')"
   ]
  },
  {
   "cell_type": "code",
   "execution_count": 71,
   "metadata": {
    "collapsed": false
   },
   "outputs": [
    {
     "data": {
      "text/plain": [
       "[(u'Mycah', 0.7573425769805908),\n",
       " (u'Tickler', 0.7480617761611938),\n",
       " (u'Mountain', 0.7177949547767639),\n",
       " (u'Dornishman', 0.7165530920028687),\n",
       " (u'wineseller', 0.6957194805145264),\n",
       " (u'Polliver', 0.6944596767425537),\n",
       " (u'Sandor', 0.6919390559196472),\n",
       " (u'Gendry', 0.6756781339645386),\n",
       " (u'puppy', 0.6734050512313843),\n",
       " (u'Clegane', 0.6718208193778992)]"
      ]
     },
     "execution_count": 71,
     "metadata": {},
     "output_type": "execute_result"
    }
   ],
   "source": [
    "thrones2vec.most_similar('Hound')"
   ]
  },
  {
   "cell_type": "code",
   "execution_count": 73,
   "metadata": {
    "collapsed": false
   },
   "outputs": [
    {
     "data": {
      "text/plain": [
       "[(u'Selyse', 0.7064837217330933),\n",
       " (u'Moqorro', 0.7047680020332336),\n",
       " (u'Benerro', 0.6977939009666443),\n",
       " (u'priestess', 0.6706072092056274),\n",
       " (u'Val', 0.6589406728744507),\n",
       " (u'Merryweather', 0.6576294898986816),\n",
       " (u'god', 0.6484695672988892),\n",
       " (u'sorceress', 0.6442724466323853),\n",
       " (u'Lyanna', 0.6340209245681763),\n",
       " (u'flames', 0.6314945220947266)]"
      ]
     },
     "execution_count": 73,
     "metadata": {},
     "output_type": "execute_result"
    }
   ],
   "source": [
    "thrones2vec.most_similar('Melisandre')"
   ]
  },
  {
   "cell_type": "code",
   "execution_count": 5,
   "metadata": {
    "collapsed": true
   },
   "outputs": [],
   "source": [
    "def nearest_similarity_cosmul(start1, end1, end2):\n",
    "    similarities = thrones2vec.most_similar_cosmul(\n",
    "        positive=[end2, start1],\n",
    "        negative=[end1]\n",
    "    )\n",
    "    start2 = similarities[0][0]\n",
    "    print(\"{start1} is related to {end1}, as {start2} is related to {end2}\".format(**locals()))"
   ]
  },
  {
   "cell_type": "code",
   "execution_count": 6,
   "metadata": {
    "collapsed": false
   },
   "outputs": [
    {
     "name": "stdout",
     "output_type": "stream",
     "text": [
      "Winterfell is related to Stark, as Casterly is related to Lannister\n"
     ]
    }
   ],
   "source": [
    "nearest_similarity_cosmul('Winterfell','Stark','Lannister')"
   ]
  },
  {
   "cell_type": "code",
   "execution_count": 7,
   "metadata": {
    "collapsed": false
   },
   "outputs": [
    {
     "name": "stdout",
     "output_type": "stream",
     "text": [
      "Cersei is related to Robert, as Catelyn is related to Stark\n"
     ]
    }
   ],
   "source": [
    "nearest_similarity_cosmul('Cersei','Robert','Stark')"
   ]
  },
  {
   "cell_type": "code",
   "execution_count": 13,
   "metadata": {
    "collapsed": false
   },
   "outputs": [
    {
     "name": "stdout",
     "output_type": "stream",
     "text": [
      "Stark is related to Sansa, as Targaryen is related to Daenerys\n"
     ]
    }
   ],
   "source": [
    "nearest_similarity_cosmul('Stark','Sansa','Daenerys')"
   ]
  },
  {
   "cell_type": "code",
   "execution_count": 30,
   "metadata": {
    "collapsed": false
   },
   "outputs": [
    {
     "name": "stdout",
     "output_type": "stream",
     "text": [
      "Rickon is related to Sansa, as condemned is related to Cersei\n"
     ]
    }
   ],
   "source": [
    "nearest_similarity_cosmul('Rickon','Sansa','Cersei')"
   ]
  },
  {
   "cell_type": "code",
   "execution_count": null,
   "metadata": {
    "collapsed": true
   },
   "outputs": [],
   "source": []
  },
  {
   "cell_type": "code",
   "execution_count": null,
   "metadata": {
    "collapsed": true
   },
   "outputs": [],
   "source": []
  }
 ],
 "metadata": {
  "kernelspec": {
   "display_name": "Python 2",
   "language": "python",
   "name": "python2"
  },
  "language_info": {
   "codemirror_mode": {
    "name": "ipython",
    "version": 2
   },
   "file_extension": ".py",
   "mimetype": "text/x-python",
   "name": "python",
   "nbconvert_exporter": "python",
   "pygments_lexer": "ipython2",
   "version": "2.7.6"
  }
 },
 "nbformat": 4,
 "nbformat_minor": 0
}
